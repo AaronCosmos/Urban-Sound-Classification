{
 "cells": [
  {
   "cell_type": "code",
   "execution_count": 3,
   "metadata": {
    "collapsed": false
   },
   "outputs": [],
   "source": [
    "import pickle\n",
    "import tensorflow as tf\n",
    "import numpy as np\n",
    "import pandas as pd\n",
    "from sklearn.metrics import roc_curve, auc\n",
    "from timeit import default_timer as timer\n",
    "import pickle\n",
    "from sklearn.preprocessing import LabelBinarizer\n",
    "\n",
    "# needed for plotting\n",
    "import matplotlib.pyplot as plt\n",
    "%matplotlib inline\n",
    "import seaborn as sns\n",
    "current_palette = sns.color_palette()"
   ]
  },
  {
   "cell_type": "code",
   "execution_count": 4,
   "metadata": {
    "collapsed": false
   },
   "outputs": [
    {
     "data": {
      "text/plain": [
       "'0.12.0-rc1'"
      ]
     },
     "execution_count": 4,
     "metadata": {},
     "output_type": "execute_result"
    }
   ],
   "source": [
    "# Using TensorFlow V.12\n",
    "tf.__version__"
   ]
  },
  {
   "cell_type": "code",
   "execution_count": 5,
   "metadata": {
    "collapsed": true
   },
   "outputs": [],
   "source": [
    "def getkey(item):\n",
    "    fpr, tpr, _ = roc_curve(test_labels.ravel(), test_preds[item])\n",
    "    roc_auc = auc(fpr, tpr)\n",
    "    return roc_auc\n",
    "\n",
    "def plotROC(testlabels, test_preds):\n",
    "    classifiers = list(test_preds.keys())\n",
    "\n",
    "    # Plot all ROC curves\n",
    "    plt.figure(figsize=(15,9))\n",
    "    for i, clf in zip(range(len(classifiers)), sorted(classifiers, key=getkey, reverse=True)):\n",
    "        fpr, tpr, _ = roc_curve(testlabels.ravel(), test_preds[clf] )\n",
    "        roc_auc = auc(fpr, tpr)\n",
    "        plt.plot(fpr, tpr,\n",
    "                 label='ROC curve '+ clf +  ' (area = {0:0.4f})'\n",
    "                       ''.format(roc_auc), linestyle='-', linewidth=2)\n",
    "\n",
    "\n",
    "    plt.plot([0, 1], [0, 1], 'k--', lw=2)\n",
    "    plt.xlim([-0.1, 1.0])\n",
    "    plt.ylim([0.0, 1.05])\n",
    "    plt.xlabel('False Positive Rate')\n",
    "    plt.ylabel('True Positive Rate')\n",
    "    plt.title('Comparison of multiclass ROC curves')\n",
    "    plt.legend(loc=\"lower right\", fontsize=14)\n",
    "    plt.show()"
   ]
  },
  {
   "cell_type": "markdown",
   "metadata": {},
   "source": [
    "## Feature engineering. (not the best)\n",
    "Using same dataset as const_MFCC, difference is feature engineering  \n",
    "trying to manually take log of MFCC features."
   ]
  },
  {
   "cell_type": "code",
   "execution_count": 6,
   "metadata": {
    "collapsed": false
   },
   "outputs": [],
   "source": [
    "data = pickle.load(open('const_shape.p', 'rb'))"
   ]
  },
  {
   "cell_type": "code",
   "execution_count": 24,
   "metadata": {
    "collapsed": false
   },
   "outputs": [
    {
     "name": "stdout",
     "output_type": "stream",
     "text": [
      "working dataframe's shape: (8730, 821)\n"
     ]
    }
   ],
   "source": [
    "data_cols = data.columns[:820]\n",
    "\n",
    "# removing last two samples, because 8730 is much easier to iterate evenly in different sized chunks than 8732.\n",
    "s = np.log(np.abs(data.loc[0:8729, data_cols]))\n",
    "s['label'] = data['label']\n",
    "print('working dataframe\\'s shape:', s.shape)"
   ]
  },
  {
   "cell_type": "code",
   "execution_count": 26,
   "metadata": {
    "collapsed": false
   },
   "outputs": [
    {
     "name": "stdout",
     "output_type": "stream",
     "text": [
      "train shape (6984, 821)\n",
      "test  shape (1746, 821)\n",
      "iterable chunks: 1, 2, 3, 6, 9, 18, 97, 194, 291, 582, 873, 1746\n"
     ]
    }
   ],
   "source": [
    "# test train split.\n",
    "test_preds = {}\n",
    "train = s[0:6984]\n",
    "test = s[6984:]\n",
    "LB = LabelBinarizer().fit(train['label'])\n",
    "test_labels = LB.transform(test['label'])\n",
    "\n",
    "# print shapes\n",
    "print('train shape {}\\ntest  shape {}\\niterable chunks: 1, 2, 3, 6, 9, 18, 97, 194, 291, 582, 873, 1746'.format(train.shape, test.shape))"
   ]
  },
  {
   "cell_type": "code",
   "execution_count": 8,
   "metadata": {
    "collapsed": false
   },
   "outputs": [],
   "source": [
    "del data"
   ]
  },
  {
   "cell_type": "code",
   "execution_count": 27,
   "metadata": {
    "collapsed": false
   },
   "outputs": [],
   "source": [
    "def accuracy(predictions, labels):\n",
    "    return (100.0 * np.sum(np.argmax(predictions, 1) == np.argmax(labels, 1))\n",
    "            / predictions.shape[0])\n",
    "\n",
    "def weight_variable(shape):\n",
    "    initial = tf.truncated_normal(shape, stddev=0.01)\n",
    "    return tf.Variable(initial)\n",
    "\n",
    "def bias_variable(shape):\n",
    "    initial = tf.constant(0.1, shape=shape)\n",
    "    return tf.Variable(initial)\n",
    "\n",
    "def test_accuracy(session, test_data=test, during = True):\n",
    "    test_data.reset_index(inplace=True, drop=True)\n",
    "    epoch_pred = session.run(prediction, feed_dict={tf_data : np.array(test_data.loc[0:check_size-1,data_cols]).reshape(check_size,20,41), keep_prob : 1.0})\n",
    "    for i in range(check_size, test_data.shape[0], check_size):\n",
    "        epoch_pred = np.concatenate([epoch_pred, session.run(prediction, \n",
    "                                    feed_dict={tf_data : np.array(test_data.loc[i:i+check_size-1,data_cols]).reshape(check_size,20,41), keep_prob : 1.0})], axis=0)\n",
    "    if during:\n",
    "        return accuracy(epoch_pred, test_labels)\n",
    "    else:\n",
    "        return epoch_pred"
   ]
  },
  {
   "cell_type": "markdown",
   "metadata": {
    "collapsed": false
   },
   "source": [
    "## Run Session"
   ]
  },
  {
   "cell_type": "code",
   "execution_count": 28,
   "metadata": {
    "collapsed": false
   },
   "outputs": [],
   "source": [
    "num_labels = 10\n",
    "batch_size = 97\n",
    "acc_over_time = {}\n",
    "def Run_Session(num_epochs, name, k_prob=1.0, mute=False, record=False):\n",
    "    global train\n",
    "    \n",
    "    start = timer()\n",
    "    with tf.Session(graph=graph) as session:\n",
    "        if record:\n",
    "            merged = tf.merge_all_summaries()  \n",
    "            writer = tf.train.SummaryWriter(\"/tmp/tensorflowlogs\", session.graph)\n",
    "        #tf.initialize_all_variables().run()\n",
    "        tf.global_variables_initializer().run()\n",
    "\n",
    "        print(\"Initialized\")\n",
    "        accu = []\n",
    "        \n",
    "        for epoch in range(num_epochs):\n",
    "            \n",
    "            # get batch\n",
    "            train_batch = train.sample(batch_size)\n",
    "            \n",
    "            t_d = np.asarray(train_batch[data_cols]).reshape(batch_size,20,41)\n",
    "            t_l = LB.transform(train_batch['label'])\n",
    "            \n",
    "            # make feed dict\n",
    "            feed_dict = { tf_data : t_d, train_labels : t_l, keep_prob : k_prob}\n",
    "            \n",
    "            # run model on batch\n",
    "            _, l, predictions = session.run([optimizer, loss, prediction], feed_dict=feed_dict)\n",
    "            \n",
    "            # mid model accuracy checks \n",
    "            if (epoch % 1000 == 0) and not mute:\n",
    "                print(\"\\tMinibatch loss at epoch {}: {}\".format(epoch, l))\n",
    "                print(\"\\tMinibatch accuracy: {:.1f}\".format(accuracy(predictions, t_l)))\n",
    "            if (epoch % 5000 == 0) and not mute:\n",
    "                print(\"Test accuracy: {:.1f}\".format(test_accuracy(session, during=True)))\n",
    "            if (epoch % 1000 == 0) and not mute:\n",
    "                accu.append(tuple([epoch, test_accuracy(session, during=True)]))\n",
    "                \n",
    "        # record accuracy and predictions\n",
    "        test_preds[name] = test_accuracy(session, during=False)\n",
    "        print(\"Final Test accuracy: {:.1f}\".format(accuracy(test_preds[name], test_labels)))\n",
    "        end = timer()\n",
    "        test_preds[name] = test_preds[name].ravel()\n",
    "        acc_over_time[name] = accu\n",
    "        print(\"time taken: {0} minutes {1:.1f} seconds\".format((end - start)//60, (end - start)%60))\n",
    "        #tf.train.export_meta_graph()"
   ]
  },
  {
   "cell_type": "markdown",
   "metadata": {
    "collapsed": false
   },
   "source": [
    "## RNN"
   ]
  },
  {
   "cell_type": "code",
   "execution_count": 11,
   "metadata": {
    "collapsed": false
   },
   "outputs": [
    {
     "name": "stdout",
     "output_type": "stream",
     "text": [
      "Basic RNN model made\n"
     ]
    }
   ],
   "source": [
    "# constants\n",
    "num_labels = 10\n",
    "batch_size = 97\n",
    "check_size = 97\n",
    "rows, cols = 20, 41\n",
    "n_hidden = 600\n",
    "beta = 0.04\n",
    "\n",
    "graph = tf.Graph()\n",
    "with graph.as_default():\n",
    "    # placeholders\n",
    "    tf_data = tf.placeholder(tf.float32, shape=[None, rows, cols])\n",
    "    train_labels = tf.placeholder(tf.float32, shape=[None, num_labels])\n",
    "    keep_prob = tf.placeholder(tf.float32)\n",
    "    \n",
    "    # weights and biases\n",
    "    layer1_weights = weight_variable([rows*n_hidden, num_labels])\n",
    "    layer1_biases = bias_variable([num_labels])\n",
    "    \n",
    "    # model\n",
    "    def model(data, proba=1.0):\n",
    "        \n",
    "        cell = tf.nn.rnn_cell.BasicLSTMCell(n_hidden, state_is_tuple=True)\n",
    "        #cell = tf.nn.rnn_cell.MultiRNNCell([ltsm] * 2, state_is_tuple=True)\n",
    "        layer1, _istate = tf.nn.dynamic_rnn(cell, data, dtype=tf.float32)\n",
    "        layer1 = tf.reshape(layer1, shape=[batch_size, rows*n_hidden])\n",
    "        layer2 = tf.nn.dropout(layer1, proba)\n",
    "        return tf.matmul(layer2, layer1_weights) + layer1_biases\n",
    "\n",
    "    # Training computation.\n",
    "    logits = model(tf_data, keep_prob)\n",
    "    loss = tf.reduce_mean(tf.nn.softmax_cross_entropy_with_logits(logits, train_labels) +\n",
    "                         beta*tf.nn.l2_loss(layer1_weights) +\n",
    "                         beta*tf.nn.l2_loss(layer1_biases))\n",
    "\n",
    "    # Optimizer.\n",
    "    optimizer = tf.train.AdamOptimizer(1e-4).minimize(loss)\n",
    "\n",
    "    # Predictions for the training, validation, and test data.\n",
    "    # !!!! as this model does not allow calling model more than once we will need to get test predictions\n",
    "    #      by running the test data through the same prediction op as the train data. !!!\n",
    "    # !!! make note to not run optimizer on same function call !!!\n",
    "    prediction = tf.nn.softmax(logits) \n",
    "    print('Basic RNN model made')"
   ]
  },
  {
   "cell_type": "code",
   "execution_count": 12,
   "metadata": {
    "collapsed": false
   },
   "outputs": [
    {
     "name": "stdout",
     "output_type": "stream",
     "text": [
      "Initialized\n",
      "\tMinibatch loss at epoch 0: 2.567577600479126\n",
      "\tMinibatch accuracy: 15.5\n",
      "Test accuracy: 11.6\n",
      "\tMinibatch loss at epoch 1000: 1.383567452430725\n",
      "\tMinibatch accuracy: 60.8\n",
      "\tMinibatch loss at epoch 2000: 0.6954327821731567\n",
      "\tMinibatch accuracy: 83.5\n",
      "\tMinibatch loss at epoch 3000: 0.48941051959991455\n",
      "\tMinibatch accuracy: 85.6\n",
      "\tMinibatch loss at epoch 4000: 0.14809764921665192\n",
      "\tMinibatch accuracy: 100.0\n",
      "\tMinibatch loss at epoch 5000: 0.15992623567581177\n",
      "\tMinibatch accuracy: 96.9\n",
      "Test accuracy: 30.9\n",
      "\tMinibatch loss at epoch 6000: 0.11205485463142395\n",
      "\tMinibatch accuracy: 99.0\n",
      "\tMinibatch loss at epoch 7000: 0.15226969122886658\n",
      "\tMinibatch accuracy: 95.9\n",
      "\tMinibatch loss at epoch 8000: 0.09204017370939255\n",
      "\tMinibatch accuracy: 99.0\n",
      "\tMinibatch loss at epoch 9000: 0.10806972533464432\n",
      "\tMinibatch accuracy: 96.9\n",
      "\tMinibatch loss at epoch 10000: 0.07949729263782501\n",
      "\tMinibatch accuracy: 99.0\n",
      "Test accuracy: 32.5\n",
      "\tMinibatch loss at epoch 11000: 0.05226586014032364\n",
      "\tMinibatch accuracy: 99.0\n",
      "\tMinibatch loss at epoch 12000: 0.05476831644773483\n",
      "\tMinibatch accuracy: 99.0\n",
      "\tMinibatch loss at epoch 13000: 0.03840486332774162\n",
      "\tMinibatch accuracy: 100.0\n",
      "\tMinibatch loss at epoch 14000: 0.12734785676002502\n",
      "\tMinibatch accuracy: 94.8\n",
      "\tMinibatch loss at epoch 15000: 0.069489486515522\n",
      "\tMinibatch accuracy: 97.9\n",
      "Test accuracy: 32.9\n",
      "\tMinibatch loss at epoch 16000: 0.05016836151480675\n",
      "\tMinibatch accuracy: 100.0\n",
      "\tMinibatch loss at epoch 17000: 0.08603905886411667\n",
      "\tMinibatch accuracy: 96.9\n",
      "\tMinibatch loss at epoch 18000: 0.07795117050409317\n",
      "\tMinibatch accuracy: 96.9\n",
      "\tMinibatch loss at epoch 19000: 0.061859190464019775\n",
      "\tMinibatch accuracy: 97.9\n",
      "Final Test accuracy: 33.3\n",
      "time taken: 269.0 minutes 28.3 seconds\n"
     ]
    }
   ],
   "source": [
    "Run_Session(20000, 'RNN', .2)"
   ]
  },
  {
   "cell_type": "markdown",
   "metadata": {},
   "source": [
    "## DeepNN"
   ]
  },
  {
   "cell_type": "code",
   "execution_count": 29,
   "metadata": {
    "collapsed": false
   },
   "outputs": [
    {
     "name": "stdout",
     "output_type": "stream",
     "text": [
      "Basic DeepNN model made\n"
     ]
    }
   ],
   "source": [
    "# constants\n",
    "num_labels = 10\n",
    "\n",
    "batch_size = 97\n",
    "check_size = 582\n",
    "rows, cols = 20, 41\n",
    "\n",
    "n_hidden1 = 1200\n",
    "n_hidden2 = 1500\n",
    "n_hidden3 = 1200\n",
    "\n",
    "beta = 0.01\n",
    "\n",
    "graph = tf.Graph()\n",
    "with graph.as_default():\n",
    "    # placeholders\n",
    "    tf_data = tf.placeholder(tf.float32, shape=[None, rows, cols])\n",
    "    train_labels = tf.placeholder(tf.float32, shape=[None, num_labels])\n",
    "    keep_prob = tf.placeholder(tf.float32)\n",
    "    \n",
    "    # weights and biases\n",
    "    layer1_weights = weight_variable([rows*cols, n_hidden1])\n",
    "    layer1_biases = bias_variable([n_hidden1])\n",
    "    layer2_weights = weight_variable([n_hidden1, n_hidden2])\n",
    "    layer2_biases = bias_variable([n_hidden2])\n",
    "    layer3_weights = weight_variable([n_hidden2, n_hidden3])\n",
    "    layer3_biases = bias_variable([n_hidden3])\n",
    "    layer4_weights = weight_variable([n_hidden3, num_labels])\n",
    "    layer4_biases = bias_variable([num_labels])\n",
    "\n",
    "    # model\n",
    "    def model(data, proba=1.0):\n",
    "        \n",
    "        layer1 = tf.nn.relu(tf.matmul(tf.reshape(data, [-1, rows*cols]), layer1_weights) + layer1_biases)\n",
    "        layer1 = tf.nn.dropout(layer1, proba)\n",
    "        \n",
    "        layer2 = tf.nn.relu(tf.matmul(layer1, layer2_weights) + layer2_biases)\n",
    "        layer2 = tf.nn.dropout(layer2, proba)\n",
    "        \n",
    "        layer3 = tf.nn.relu(tf.matmul(layer2, layer3_weights) + layer3_biases)\n",
    "        layer3 = tf.nn.dropout(layer3, proba)\n",
    "        \n",
    "        return tf.matmul(layer3, layer4_weights) + layer4_biases\n",
    "\n",
    "    # Training computation.\n",
    "    logits = model(tf_data, keep_prob)\n",
    "    loss = tf.reduce_mean(tf.nn.softmax_cross_entropy_with_logits(logits, train_labels) +\n",
    "                         beta*tf.nn.l2_loss(layer1_weights) +\n",
    "                         beta*tf.nn.l2_loss(layer1_biases) +\n",
    "                         beta*tf.nn.l2_loss(layer2_weights) +\n",
    "                         beta*tf.nn.l2_loss(layer2_biases) +\n",
    "                         beta*tf.nn.l2_loss(layer3_weights) +\n",
    "                         beta*tf.nn.l2_loss(layer3_biases) +\n",
    "                         beta*tf.nn.l2_loss(layer4_weights) +\n",
    "                         beta*tf.nn.l2_loss(layer4_biases))\n",
    "\n",
    "    # Optimizer.\n",
    "    optimizer = tf.train.AdamOptimizer(1e-4).minimize(loss)\n",
    "\n",
    "    # Predictions for the training, validation, and test data.\n",
    "    # !!!! as this RNN model does not allow calling model more than once we will need to get test predictions\n",
    "    #      by running the test data through the same prediction op as the train data. !!!\n",
    "    # !!! make note to not run optimizer on same function call !!!\n",
    "    prediction = tf.nn.softmax(logits)  \n",
    "    print('Basic DeepNN model made')"
   ]
  },
  {
   "cell_type": "code",
   "execution_count": 31,
   "metadata": {
    "collapsed": false
   },
   "outputs": [],
   "source": [
    "Run_Session(10000, 'DeepNN', .5)"
   ]
  },
  {
   "cell_type": "markdown",
   "metadata": {},
   "source": [
    "## CNN"
   ]
  },
  {
   "cell_type": "code",
   "execution_count": 15,
   "metadata": {
    "collapsed": false
   },
   "outputs": [
    {
     "name": "stdout",
     "output_type": "stream",
     "text": [
      "Basic CNN model made\n"
     ]
    }
   ],
   "source": [
    "# single layer CNN\n",
    "num_labels = 10\n",
    "\n",
    "batch_size = 97\n",
    "check_size = 582\n",
    "rows, cols = 20, 41\n",
    "patch_size = 5\n",
    "num_channels = 1\n",
    "depth1 = 32\n",
    "\n",
    "num_hidden = 2050\n",
    "\n",
    "beta = 0.01\n",
    "\n",
    "graph = tf.Graph()\n",
    "with graph.as_default():\n",
    "    \n",
    "    tf_data = tf.placeholder(tf.float32, shape=(None, rows, cols))\n",
    "    train_labels = tf.placeholder(tf.float32, shape=(None, num_labels))\n",
    "    #tf_test_dataset = tf.placeholder(tf.float32, shape=(check_size, image_size, image_size, num_channels))\n",
    "\n",
    "    # Variables.\n",
    "    layer1_weights = weight_variable([patch_size, patch_size, 1, depth1])\n",
    "    layer1_biases = bias_variable([depth1])\n",
    "    layer2_weights = weight_variable([rows//2 * (cols//2 + 1) * depth1, num_hidden])\n",
    "    layer2_biases = bias_variable([num_hidden])\n",
    "    layer3_weights = weight_variable([num_hidden, num_labels])\n",
    "    layer3_biases = bias_variable([num_labels])\n",
    "\n",
    "    keep_prob = tf.placeholder(tf.float32)\n",
    "    # Model with dropout\n",
    "    def model(data, proba=keep_prob):\n",
    "        # Convolution\n",
    "        conv1 = tf.nn.conv2d(data, layer1_weights, [1, 2, 2, 1] , padding='SAME') + layer1_biases\n",
    "        pooled1 = tf.nn.max_pool(tf.nn.relu(conv1), ksize=[1, 2, 2, 1],strides=[1, 1, 1, 1], padding='SAME')\n",
    "\n",
    "        # Fully Connected Layer\n",
    "        shape = pooled1.get_shape().as_list()\n",
    "        reshape = tf.reshape(pooled1, [-1, shape[1] * shape[2] * shape[3]])\n",
    "        full2 = tf.nn.relu(tf.matmul(reshape, layer2_weights) + layer2_biases)\n",
    "\n",
    "        # Dropout\n",
    "        full2 = tf.nn.dropout(full2, proba)\n",
    "        \n",
    "        return tf.matmul(full2, layer3_weights) + layer3_biases\n",
    "\n",
    "    # Training computation.\n",
    "    logits = model(tf.expand_dims(tf_data, -1), keep_prob)\n",
    "    loss = tf.reduce_mean(tf.nn.softmax_cross_entropy_with_logits(logits, train_labels) +\n",
    "                         beta*tf.nn.l2_loss(layer1_weights) +\n",
    "                         beta*tf.nn.l2_loss(layer1_biases) +\n",
    "                         beta*tf.nn.l2_loss(layer2_weights) +\n",
    "                         beta*tf.nn.l2_loss(layer2_biases) +\n",
    "                         beta*tf.nn.l2_loss(layer3_weights) +\n",
    "                         beta*tf.nn.l2_loss(layer3_biases))\n",
    "\n",
    "    # Optimizer.\n",
    "    optimizer = tf.train.AdamOptimizer(1e-4).minimize(loss)\n",
    "\n",
    "    # Predictions for the training, validation, and test data.\n",
    "    prediction = tf.nn.softmax(logits)\n",
    "    #test_prediction = tf.nn.softmax(model(tf_test_dataset,1.0))  \n",
    "    print('Basic CNN model made')"
   ]
  },
  {
   "cell_type": "code",
   "execution_count": 16,
   "metadata": {
    "collapsed": false
   },
   "outputs": [
    {
     "name": "stdout",
     "output_type": "stream",
     "text": [
      "Initialized\n",
      "\tMinibatch loss at epoch 0: 7.75794792175293\n",
      "\tMinibatch accuracy: 6.2\n",
      "Test accuracy: 12.4\n",
      "\tMinibatch loss at epoch 1000: 1.982966423034668\n",
      "\tMinibatch accuracy: 35.1\n",
      "\tMinibatch loss at epoch 2000: 1.7484956979751587\n",
      "\tMinibatch accuracy: 44.3\n",
      "\tMinibatch loss at epoch 3000: 1.5821635723114014\n",
      "\tMinibatch accuracy: 54.6\n",
      "\tMinibatch loss at epoch 4000: 1.4924242496490479\n",
      "\tMinibatch accuracy: 57.7\n",
      "\tMinibatch loss at epoch 5000: 1.5107589960098267\n",
      "\tMinibatch accuracy: 58.8\n",
      "Test accuracy: 37.2\n",
      "\tMinibatch loss at epoch 6000: 1.1542561054229736\n",
      "\tMinibatch accuracy: 77.3\n",
      "\tMinibatch loss at epoch 7000: 1.1912972927093506\n",
      "\tMinibatch accuracy: 77.3\n",
      "\tMinibatch loss at epoch 8000: 1.0234284400939941\n",
      "\tMinibatch accuracy: 81.4\n",
      "\tMinibatch loss at epoch 9000: 1.0523602962493896\n",
      "\tMinibatch accuracy: 83.5\n",
      "\tMinibatch loss at epoch 10000: 0.9625751972198486\n",
      "\tMinibatch accuracy: 89.7\n",
      "Test accuracy: 40.0\n",
      "\tMinibatch loss at epoch 11000: 0.954519510269165\n",
      "\tMinibatch accuracy: 85.6\n",
      "\tMinibatch loss at epoch 12000: 0.9440872073173523\n",
      "\tMinibatch accuracy: 88.7\n",
      "\tMinibatch loss at epoch 13000: 0.9639616012573242\n",
      "\tMinibatch accuracy: 87.6\n",
      "\tMinibatch loss at epoch 14000: 0.9320002198219299\n",
      "\tMinibatch accuracy: 87.6\n",
      "\tMinibatch loss at epoch 15000: 0.8431679010391235\n",
      "\tMinibatch accuracy: 90.7\n",
      "Test accuracy: 37.9\n",
      "\tMinibatch loss at epoch 16000: 0.7953998446464539\n",
      "\tMinibatch accuracy: 93.8\n",
      "\tMinibatch loss at epoch 17000: 0.7752459645271301\n",
      "\tMinibatch accuracy: 93.8\n",
      "\tMinibatch loss at epoch 18000: 0.8292020559310913\n",
      "\tMinibatch accuracy: 92.8\n",
      "\tMinibatch loss at epoch 19000: 0.8405120968818665\n",
      "\tMinibatch accuracy: 89.7\n",
      "Final Test accuracy: 37.7\n",
      "time taken: 654.0 minutes 20.5 seconds\n"
     ]
    }
   ],
   "source": [
    "Run_Session(20000, 'CNN', .5)"
   ]
  },
  {
   "cell_type": "code",
   "execution_count": 17,
   "metadata": {
    "collapsed": false
   },
   "outputs": [
    {
     "data": {
      "image/png": "[encoded data removed]",
      "text/plain": [
       "<matplotlib.figure.Figure at 0x1e1805f5668>"
      ]
     },
     "metadata": {},
     "output_type": "display_data"
    }
   ],
   "source": [
    "plt.plot(np.array(acc_over_time['RNN'])[:,0], np.array(acc_over_time['RNN'])[:,1])\n",
    "plt.plot(np.array(acc_over_time['DeepNN'])[:,0], np.array(acc_over_time['DeepNN'])[:,1])\n",
    "plt.plot(np.array(acc_over_time['CNN'])[:,0], np.array(acc_over_time['CNN'])[:,1])\n",
    "plt.title('Accuracy')\n",
    "plt.show()"
   ]
  },
  {
   "cell_type": "code",
   "execution_count": 27,
   "metadata": {
    "collapsed": false
   },
   "outputs": [],
   "source": [
    "# record measurements\n",
    "#dataset_acc = pickle.load(open('dataset_acc.p','rb'))\n",
    "dataset_acc['const_LogMFCC'] = {'DeepNN':np.array(acc_over_time['DeepNN'])[-1,1],\n",
    "                              'RNN': np.array(acc_over_time['RNN'])[-1,1],\n",
    "                              'CNN': np.array(acc_over_time['CNN'])[-1,1]}\n",
    "#pickle.dump(dataset_acc, open('dataset_acc.p','wb'))"
   ]
  },
  {
   "cell_type": "code",
   "execution_count": 26,
   "metadata": {
    "collapsed": false
   },
   "outputs": [
    {
     "data": {
      "text/plain": [
       "{'const_LogMFCC': {'CNN': 39.34707903780069,\n",
       "  'DeepNN': 34.306987399770904,\n",
       "  'RNN': 33.218785796105387},\n",
       " 'features193': {'CNN': 65.4639175257732,\n",
       "  'DeepNN': 63.57388316151203,\n",
       "  'RNN': 60.53837342497136}}"
      ]
     },
     "execution_count": 26,
     "metadata": {},
     "output_type": "execute_result"
    }
   ],
   "source": [
    "dataset_acc"
   ]
  },
  {
   "cell_type": "code",
   "execution_count": null,
   "metadata": {
    "collapsed": false
   },
   "outputs": [],
   "source": [
    "plotROC(test_labels, test_preds)"
   ]
  },
  {
   "cell_type": "code",
   "execution_count": null,
   "metadata": {
    "collapsed": false
   },
   "outputs": [],
   "source": []
  },
  {
   "cell_type": "code",
   "execution_count": null,
   "metadata": {
    "collapsed": false
   },
   "outputs": [],
   "source": []
  },
  {
   "cell_type": "code",
   "execution_count": null,
   "metadata": {
    "collapsed": true
   },
   "outputs": [],
   "source": []
  }
 ],
 "metadata": {
  "anaconda-cloud": {},
  "kernelspec": {
   "display_name": "Python [Root]",
   "language": "python",
   "name": "Python [Root]"
  },
  "language_info": {
   "codemirror_mode": {
    "name": "ipython",
    "version": 3
   },
   "file_extension": ".py",
   "mimetype": "text/x-python",
   "name": "python",
   "nbconvert_exporter": "python",
   "pygments_lexer": "ipython3",
   "version": "3.5.2"
  }
 },
 "nbformat": 4,
 "nbformat_minor": 1
}
