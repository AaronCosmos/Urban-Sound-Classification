{
 "cells": [
  {
   "cell_type": "markdown",
   "metadata": {},
   "source": [
    "## Final Project"
   ]
  },
  {
   "cell_type": "code",
   "execution_count": 2,
   "metadata": {
    "collapsed": false
   },
   "outputs": [],
   "source": [
    "# Import libraries\n",
    "\n",
    "from __future__ import print_function\n",
    "import matplotlib.pyplot as plt\n",
    "import numpy as np\n",
    "import pandas as pd\n",
    "import sklearn as sk\n",
    "import os\n",
    "import sys\n",
    "from IPython.display import display, Image\n",
    "from sklearn.linear_model import LogisticRegression\n",
    "from sklearn.preprocessing import LabelBinarizer\n",
    "from sklearn import preprocessing\n",
    "from sklearn.metrics import roc_curve, auc\n",
    "from six.moves import cPickle as pickle\n",
    "from six.moves import range\n",
    "from sklearn.preprocessing import OneHotEncoder\n",
    "from sklearn import model_selection\n",
    "from sklearn.multiclass import OneVsRestClassifier\n",
    "from sklearn.ensemble import RandomForestClassifier\n",
    "from sklearn.naive_bayes import GaussianNB\n",
    "from timeit import default_timer as timer\n",
    "# needed to see images\n",
    "from IPython.display import display, Image\n",
    "\n",
    "# Config the matlotlib backend as plotting inline in IPython\n",
    "%matplotlib inline\n",
    "\n",
    "#import tensorflow as tf\n",
    "import time\n",
    "import pickle\n",
    "import seaborn as sns\n",
    "import librosa\n",
    "current_palette = sns.color_palette()"
   ]
  },
  {
   "cell_type": "markdown",
   "metadata": {
    "collapsed": false
   },
   "source": [
    "import tarfile\n",
    "t = tarfile.open('UrbanSound8K.tar.gz', mode=\"r:gz\")\n",
    "t.extractall()"
   ]
  },
  {
   "cell_type": "code",
   "execution_count": 3,
   "metadata": {
    "collapsed": false
   },
   "outputs": [
    {
     "data": {
      "text/html": [
       "<div>\n",
       "<table border=\"1\" class=\"dataframe\">\n",
       "  <thead>\n",
       "    <tr style=\"text-align: right;\">\n",
       "      <th></th>\n",
       "      <th>slice_file_name</th>\n",
       "      <th>fsID</th>\n",
       "      <th>start</th>\n",
       "      <th>end</th>\n",
       "      <th>salience</th>\n",
       "      <th>fold</th>\n",
       "      <th>classID</th>\n",
       "      <th>class</th>\n",
       "    </tr>\n",
       "  </thead>\n",
       "  <tbody>\n",
       "    <tr>\n",
       "      <th>0</th>\n",
       "      <td>100032-3-0-0.wav</td>\n",
       "      <td>100032</td>\n",
       "      <td>0.0</td>\n",
       "      <td>0.317551</td>\n",
       "      <td>1</td>\n",
       "      <td>5</td>\n",
       "      <td>3</td>\n",
       "      <td>dog_bark</td>\n",
       "    </tr>\n",
       "    <tr>\n",
       "      <th>1</th>\n",
       "      <td>100263-2-0-117.wav</td>\n",
       "      <td>100263</td>\n",
       "      <td>58.5</td>\n",
       "      <td>62.500000</td>\n",
       "      <td>1</td>\n",
       "      <td>5</td>\n",
       "      <td>2</td>\n",
       "      <td>children_playing</td>\n",
       "    </tr>\n",
       "    <tr>\n",
       "      <th>2</th>\n",
       "      <td>100263-2-0-121.wav</td>\n",
       "      <td>100263</td>\n",
       "      <td>60.5</td>\n",
       "      <td>64.500000</td>\n",
       "      <td>1</td>\n",
       "      <td>5</td>\n",
       "      <td>2</td>\n",
       "      <td>children_playing</td>\n",
       "    </tr>\n",
       "    <tr>\n",
       "      <th>3</th>\n",
       "      <td>100263-2-0-126.wav</td>\n",
       "      <td>100263</td>\n",
       "      <td>63.0</td>\n",
       "      <td>67.000000</td>\n",
       "      <td>1</td>\n",
       "      <td>5</td>\n",
       "      <td>2</td>\n",
       "      <td>children_playing</td>\n",
       "    </tr>\n",
       "    <tr>\n",
       "      <th>4</th>\n",
       "      <td>100263-2-0-137.wav</td>\n",
       "      <td>100263</td>\n",
       "      <td>68.5</td>\n",
       "      <td>72.500000</td>\n",
       "      <td>1</td>\n",
       "      <td>5</td>\n",
       "      <td>2</td>\n",
       "      <td>children_playing</td>\n",
       "    </tr>\n",
       "  </tbody>\n",
       "</table>\n",
       "</div>"
      ],
      "text/plain": [
       "      slice_file_name    fsID  start        end  salience  fold  classID  \\\n",
       "0    100032-3-0-0.wav  100032    0.0   0.317551         1     5        3   \n",
       "1  100263-2-0-117.wav  100263   58.5  62.500000         1     5        2   \n",
       "2  100263-2-0-121.wav  100263   60.5  64.500000         1     5        2   \n",
       "3  100263-2-0-126.wav  100263   63.0  67.000000         1     5        2   \n",
       "4  100263-2-0-137.wav  100263   68.5  72.500000         1     5        2   \n",
       "\n",
       "              class  \n",
       "0          dog_bark  \n",
       "1  children_playing  \n",
       "2  children_playing  \n",
       "3  children_playing  \n",
       "4  children_playing  "
      ]
     },
     "execution_count": 3,
     "metadata": {},
     "output_type": "execute_result"
    }
   ],
   "source": [
    "raw_sound = pd.read_csv('UrbanSound8K/metadata/UrbanSound8K.csv')\n",
    "raw_sound.head()"
   ]
  },
  {
   "cell_type": "code",
   "execution_count": 4,
   "metadata": {
    "collapsed": false
   },
   "outputs": [
    {
     "name": "stdout",
     "output_type": "stream",
     "text": [
      "[[-0.01174927  0.03039551]\n",
      " [-0.01153564  0.02471924]\n",
      " [-0.01644897  0.01794434]\n",
      " ..., \n",
      " [-0.00588989  0.00012207]\n",
      " [ 0.00314331  0.00585938]\n",
      " [ 0.00540161  0.00689697]] 44100\n"
     ]
    }
   ],
   "source": [
    "import soundfile as sf\n",
    "data, samplerate = sf.read('UrbanSound8K/audio/fold1/102106-3-0-0.wav')\n",
    "print(data, samplerate)"
   ]
  },
  {
   "cell_type": "code",
   "execution_count": 5,
   "metadata": {
    "collapsed": false
   },
   "outputs": [
    {
     "name": "stdout",
     "output_type": "stream",
     "text": [
      "['fold1', 'fold2', 'fold3', 'fold4', 'fold5', 'fold6', 'fold7', 'fold8', 'fold9', 'fold10']\n"
     ]
    }
   ],
   "source": [
    "'''for i in range(1,11):\n",
    "    fold_name = 'fold' + str(i)\n",
    "    fold_list.append(fold_name)\n",
    "print(fold_list)'''\n",
    "fold_list = ['fold1', 'fold2', 'fold3', 'fold4', 'fold5', 'fold6', 'fold7', 'fold8', 'fold9', 'fold10']"
   ]
  },
  {
   "cell_type": "code",
   "execution_count": 6,
   "metadata": {
    "collapsed": false
   },
   "outputs": [],
   "source": [
    "from python_speech_features import mfcc\n",
    "from python_speech_features import logfbank\n",
    "import scipy.io.wavfile as wave\n",
    "from scipy.fftpack import dct "
   ]
  },
  {
   "cell_type": "code",
   "execution_count": 7,
   "metadata": {
    "collapsed": true
   },
   "outputs": [],
   "source": [
    "def extract_feature(file_name):\n",
    "    X, sample_rate = librosa.load(file_name)\n",
    "    stft = np.abs(librosa.stft(X))\n",
    "    mfccs = np.mean(librosa.feature.mfcc(y=X, sr=sample_rate, n_mfcc=40).T,axis=0)\n",
    "    chroma = np.mean(librosa.feature.chroma_stft(S=stft, sr=sample_rate).T,axis=0)\n",
    "    mel = np.mean(librosa.feature.melspectrogram(X, sr=sample_rate).T,axis=0)\n",
    "    contrast = np.mean(librosa.feature.spectral_contrast(S=stft, sr=sample_rate).T,axis=0)\n",
    "    tonnetz = np.mean(librosa.feature.tonnetz(y=librosa.effects.harmonic(X), sr=sample_rate).T,axis=0)\n",
    "    return mfccs,chroma,mel,contrast,tonnetz\n"
   ]
  },
  {
   "cell_type": "code",
   "execution_count": 11,
   "metadata": {
    "collapsed": false
   },
   "outputs": [
    {
     "name": "stdout",
     "output_type": "stream",
     "text": [
      "time to extract features from one file: 0.004sec\n"
     ]
    },
    {
     "name": "stderr",
     "output_type": "stream",
     "text": [
      "C:\\Anaconda3\\lib\\site-packages\\numpy\\core\\numeric.py:482: VisibleDeprecationWarning: using a non-integer number instead of an integer will result in an error in the future\n",
      "  return array(a, dtype, copy=False, order=order)\n"
     ]
    }
   ],
   "source": [
    "start_time = time.time()\n",
    "a,b,c,d,e = extract_feature('UrbanSound8K/audio/fold1/102106-3-0-0.wav')\n",
    "end_time = time.time()\n",
    "print('time to extract features from one file: {:.3f}sec'.format((end_time-start_time)/60))"
   ]
  },
  {
   "cell_type": "code",
   "execution_count": 12,
   "metadata": {
    "collapsed": false
   },
   "outputs": [
    {
     "name": "stdout",
     "output_type": "stream",
     "text": [
      "(40,) (12,) (128,) (7,) (6,)\n",
      "-253.201139054\n",
      "193\n"
     ]
    }
   ],
   "source": [
    "print(a.shape,b.shape,c.shape,d.shape,e.shape)\n",
    "print(a[0])\n",
    "print(40+12+128+13)"
   ]
  },
  {
   "cell_type": "code",
   "execution_count": 13,
   "metadata": {
    "collapsed": false
   },
   "outputs": [
    {
     "name": "stdout",
     "output_type": "stream",
     "text": [
      ".DS_Store\n"
     ]
    },
    {
     "name": "stderr",
     "output_type": "stream",
     "text": [
      "C:\\Anaconda3\\lib\\site-packages\\numpy\\core\\numeric.py:482: VisibleDeprecationWarning: using a non-integer number instead of an integer will result in an error in the future\n",
      "  return array(a, dtype, copy=False, order=order)\n",
      "C:\\Anaconda3\\lib\\site-packages\\librosa\\core\\pitch.py:148: UserWarning: Trying to estimate tuning from empty frequency set.\n",
      "  warnings.warn('Trying to estimate tuning from empty frequency set.')\n"
     ]
    },
    {
     "name": "stdout",
     "output_type": "stream",
     "text": [
      ".DS_Store\n",
      ".DS_Store\n",
      ".DS_Store\n",
      ".DS_Store\n",
      ".DS_Store\n",
      ".DS_Store\n",
      ".DS_Store\n",
      ".DS_Store\n",
      ".DS_Store\n",
      "Exceptions:  10\n",
      "time to extract features from all files: 77.450sec\n"
     ]
    }
   ],
   "source": [
    "from os import listdir\n",
    "from os.path import isfile, join\n",
    "mfcc_data = []\n",
    "exception_count = 0\n",
    "\n",
    "start_time = time.time()\n",
    "for i in range(10):\n",
    "    mypath = 'UrbanSound8K/audio/'+ fold_list[i] + '/'\n",
    "    files = [f for f in listdir(mypath) if isfile(join(mypath, f))]\n",
    "    for f in files:\n",
    "        try:\n",
    "            fn = mypath + f\n",
    "            mfccs,chroma,mel,contrast,tonnetz = extract_feature(fn)\n",
    "            features = np.empty((0,193))\n",
    "            ext_features = np.hstack([mfccs,chroma,mel,contrast,tonnetz])\n",
    "            features = np.vstack([features,ext_features])\n",
    "            \n",
    "        except:\n",
    "            print(f)\n",
    "            exception_count += 1\n",
    "            continue\n",
    "\n",
    "        l_row = raw_sound.loc[raw_sound['slice_file_name']==f].values.tolist()\n",
    "        label = l_row[0][-1]\n",
    "        fold = i+1\n",
    "    \n",
    "        mfcc_data.append([features, features.shape, label, fold])\n",
    "        \n",
    "            #print(f,old_samplerate,ss)\n",
    "        \n",
    "print(\"Exceptions: \", exception_count)\n",
    "end_time = time.time()\n",
    "print(print(\"time taken: {0} minutes {1:.1f} seconds\".format((end_time - start_time)//60, (end_time - start_time)%60)))"
   ]
  },
  {
   "cell_type": "code",
   "execution_count": 6,
   "metadata": {
    "collapsed": true
   },
   "outputs": [],
   "source": [
    "mfcc_pd = pickle.load(open('feature_data.p',\"rb\"))"
   ]
  },
  {
   "cell_type": "code",
   "execution_count": 7,
   "metadata": {
    "collapsed": false
   },
   "outputs": [],
   "source": [
    "cols=[\"features\", \"shape\",\"label\", \"fold\"]\n",
    "mfcc_pd = pd.DataFrame(data = mfcc_pd, columns=cols)"
   ]
  },
  {
   "cell_type": "code",
   "execution_count": 8,
   "metadata": {
    "collapsed": false
   },
   "outputs": [
    {
     "data": {
      "text/html": [
       "<div>\n",
       "<table border=\"1\" class=\"dataframe\">\n",
       "  <thead>\n",
       "    <tr style=\"text-align: right;\">\n",
       "      <th></th>\n",
       "      <th>features</th>\n",
       "      <th>shape</th>\n",
       "      <th>label</th>\n",
       "      <th>fold</th>\n",
       "    </tr>\n",
       "  </thead>\n",
       "  <tbody>\n",
       "    <tr>\n",
       "      <th>0</th>\n",
       "      <td>[[-402.458131222, 92.2208198393, 19.3559458953...</td>\n",
       "      <td>(1, 193)</td>\n",
       "      <td>dog_bark</td>\n",
       "      <td>1</td>\n",
       "    </tr>\n",
       "    <tr>\n",
       "      <th>1</th>\n",
       "      <td>[[-366.481581922, 126.422493153, 31.1635153803...</td>\n",
       "      <td>(1, 193)</td>\n",
       "      <td>dog_bark</td>\n",
       "      <td>1</td>\n",
       "    </tr>\n",
       "    <tr>\n",
       "      <th>2</th>\n",
       "      <td>[[-421.545181629, 69.0278123077, 11.2546785074...</td>\n",
       "      <td>(1, 193)</td>\n",
       "      <td>dog_bark</td>\n",
       "      <td>1</td>\n",
       "    </tr>\n",
       "    <tr>\n",
       "      <th>3</th>\n",
       "      <td>[[-253.201139054, 99.422307006, -42.0187279331...</td>\n",
       "      <td>(1, 193)</td>\n",
       "      <td>dog_bark</td>\n",
       "      <td>1</td>\n",
       "    </tr>\n",
       "    <tr>\n",
       "      <th>4</th>\n",
       "      <td>[[-383.810140281, 128.451555696, 29.3132434931...</td>\n",
       "      <td>(1, 193)</td>\n",
       "      <td>gun_shot</td>\n",
       "      <td>1</td>\n",
       "    </tr>\n",
       "  </tbody>\n",
       "</table>\n",
       "</div>"
      ],
      "text/plain": [
       "                                            features     shape     label  fold\n",
       "0  [[-402.458131222, 92.2208198393, 19.3559458953...  (1, 193)  dog_bark     1\n",
       "1  [[-366.481581922, 126.422493153, 31.1635153803...  (1, 193)  dog_bark     1\n",
       "2  [[-421.545181629, 69.0278123077, 11.2546785074...  (1, 193)  dog_bark     1\n",
       "3  [[-253.201139054, 99.422307006, -42.0187279331...  (1, 193)  dog_bark     1\n",
       "4  [[-383.810140281, 128.451555696, 29.3132434931...  (1, 193)  gun_shot     1"
      ]
     },
     "execution_count": 8,
     "metadata": {},
     "output_type": "execute_result"
    }
   ],
   "source": [
    "mfcc_pd.head()"
   ]
  },
  {
   "cell_type": "code",
   "execution_count": 9,
   "metadata": {
    "collapsed": false
   },
   "outputs": [
    {
     "data": {
      "text/plain": [
       "{0: 'dog_bark',\n",
       " 1: 'air_conditioner',\n",
       " 2: 'jackhammer',\n",
       " 3: 'siren',\n",
       " 4: 'engine_idling',\n",
       " 5: 'street_music',\n",
       " 6: 'car_horn',\n",
       " 7: 'gun_shot',\n",
       " 8: 'children_playing',\n",
       " 9: 'drilling'}"
      ]
     },
     "execution_count": 9,
     "metadata": {},
     "output_type": "execute_result"
    }
   ],
   "source": [
    "labels = mfcc_pd['label']\n",
    "classes = list(set(labels))\n",
    "label_list = []\n",
    "\n",
    "for i in range(10):\n",
    "    label_list.append((i, classes[i]))\n",
    "\n",
    "label_mapping = dict(label_list)\n",
    "label_mapping"
   ]
  },
  {
   "cell_type": "code",
   "execution_count": 10,
   "metadata": {
    "collapsed": true
   },
   "outputs": [],
   "source": [
    "# Convert label to class number\n",
    "label_num = []\n",
    "for label in mfcc_pd['label']:\n",
    "    for i in range(10):\n",
    "        if label == label_mapping[i]:\n",
    "            label_num.append(i)\n",
    "#mfcc_pd[\"label_num\"] = label_num"
   ]
  },
  {
   "cell_type": "code",
   "execution_count": 11,
   "metadata": {
    "collapsed": true
   },
   "outputs": [],
   "source": [
    "# One-hot encoding the lable for one-versus-all classification\n",
    "def one_hot(labels):\n",
    "    \"\"\"\n",
    "    Convert a list of labels to one hot code ndarray.\n",
    "    Parameter:\n",
    "    labels: list of integer(0-9)\n",
    "    \"\"\"\n",
    "    n = len(labels)\n",
    "    m = 10\n",
    "    label_array = np.zeros((n, m), dtype = np.int)\n",
    "    for i in range(n):\n",
    "        label_array[i,labels[i]] = 1   \n",
    "    return label_array"
   ]
  },
  {
   "cell_type": "code",
   "execution_count": 12,
   "metadata": {
    "collapsed": false
   },
   "outputs": [],
   "source": [
    "#label_onehot = list(one_hot(mfcc_pd[\"label_num\"]))\n",
    "label_onehot = np.array(one_hot(label_num))\n",
    "#mfcc_pd['label_onehot'] = label_onehot\n",
    "for i in range(10):\n",
    "    mfcc_pd[label_mapping[i][:8]] = label_onehot[:,i]"
   ]
  },
  {
   "cell_type": "code",
   "execution_count": 13,
   "metadata": {
    "collapsed": false
   },
   "outputs": [
    {
     "data": {
      "text/html": [
       "<div>\n",
       "<table border=\"1\" class=\"dataframe\">\n",
       "  <thead>\n",
       "    <tr style=\"text-align: right;\">\n",
       "      <th></th>\n",
       "      <th>features</th>\n",
       "      <th>shape</th>\n",
       "      <th>label</th>\n",
       "      <th>fold</th>\n",
       "      <th>dog_bark</th>\n",
       "      <th>air_cond</th>\n",
       "      <th>jackhamm</th>\n",
       "      <th>siren</th>\n",
       "      <th>engine_i</th>\n",
       "      <th>street_m</th>\n",
       "      <th>car_horn</th>\n",
       "      <th>gun_shot</th>\n",
       "      <th>children</th>\n",
       "      <th>drilling</th>\n",
       "    </tr>\n",
       "  </thead>\n",
       "  <tbody>\n",
       "    <tr>\n",
       "      <th>0</th>\n",
       "      <td>[[-402.458131222, 92.2208198393, 19.3559458953...</td>\n",
       "      <td>(1, 193)</td>\n",
       "      <td>dog_bark</td>\n",
       "      <td>1</td>\n",
       "      <td>1</td>\n",
       "      <td>0</td>\n",
       "      <td>0</td>\n",
       "      <td>0</td>\n",
       "      <td>0</td>\n",
       "      <td>0</td>\n",
       "      <td>0</td>\n",
       "      <td>0</td>\n",
       "      <td>0</td>\n",
       "      <td>0</td>\n",
       "    </tr>\n",
       "    <tr>\n",
       "      <th>1</th>\n",
       "      <td>[[-366.481581922, 126.422493153, 31.1635153803...</td>\n",
       "      <td>(1, 193)</td>\n",
       "      <td>dog_bark</td>\n",
       "      <td>1</td>\n",
       "      <td>1</td>\n",
       "      <td>0</td>\n",
       "      <td>0</td>\n",
       "      <td>0</td>\n",
       "      <td>0</td>\n",
       "      <td>0</td>\n",
       "      <td>0</td>\n",
       "      <td>0</td>\n",
       "      <td>0</td>\n",
       "      <td>0</td>\n",
       "    </tr>\n",
       "    <tr>\n",
       "      <th>2</th>\n",
       "      <td>[[-421.545181629, 69.0278123077, 11.2546785074...</td>\n",
       "      <td>(1, 193)</td>\n",
       "      <td>dog_bark</td>\n",
       "      <td>1</td>\n",
       "      <td>1</td>\n",
       "      <td>0</td>\n",
       "      <td>0</td>\n",
       "      <td>0</td>\n",
       "      <td>0</td>\n",
       "      <td>0</td>\n",
       "      <td>0</td>\n",
       "      <td>0</td>\n",
       "      <td>0</td>\n",
       "      <td>0</td>\n",
       "    </tr>\n",
       "    <tr>\n",
       "      <th>3</th>\n",
       "      <td>[[-253.201139054, 99.422307006, -42.0187279331...</td>\n",
       "      <td>(1, 193)</td>\n",
       "      <td>dog_bark</td>\n",
       "      <td>1</td>\n",
       "      <td>1</td>\n",
       "      <td>0</td>\n",
       "      <td>0</td>\n",
       "      <td>0</td>\n",
       "      <td>0</td>\n",
       "      <td>0</td>\n",
       "      <td>0</td>\n",
       "      <td>0</td>\n",
       "      <td>0</td>\n",
       "      <td>0</td>\n",
       "    </tr>\n",
       "    <tr>\n",
       "      <th>4</th>\n",
       "      <td>[[-383.810140281, 128.451555696, 29.3132434931...</td>\n",
       "      <td>(1, 193)</td>\n",
       "      <td>gun_shot</td>\n",
       "      <td>1</td>\n",
       "      <td>0</td>\n",
       "      <td>0</td>\n",
       "      <td>0</td>\n",
       "      <td>0</td>\n",
       "      <td>0</td>\n",
       "      <td>0</td>\n",
       "      <td>0</td>\n",
       "      <td>1</td>\n",
       "      <td>0</td>\n",
       "      <td>0</td>\n",
       "    </tr>\n",
       "  </tbody>\n",
       "</table>\n",
       "</div>"
      ],
      "text/plain": [
       "                                            features     shape     label  \\\n",
       "0  [[-402.458131222, 92.2208198393, 19.3559458953...  (1, 193)  dog_bark   \n",
       "1  [[-366.481581922, 126.422493153, 31.1635153803...  (1, 193)  dog_bark   \n",
       "2  [[-421.545181629, 69.0278123077, 11.2546785074...  (1, 193)  dog_bark   \n",
       "3  [[-253.201139054, 99.422307006, -42.0187279331...  (1, 193)  dog_bark   \n",
       "4  [[-383.810140281, 128.451555696, 29.3132434931...  (1, 193)  gun_shot   \n",
       "\n",
       "   fold  dog_bark  air_cond  jackhamm  siren  engine_i  street_m  car_horn  \\\n",
       "0     1         1         0         0      0         0         0         0   \n",
       "1     1         1         0         0      0         0         0         0   \n",
       "2     1         1         0         0      0         0         0         0   \n",
       "3     1         1         0         0      0         0         0         0   \n",
       "4     1         0         0         0      0         0         0         0   \n",
       "\n",
       "   gun_shot  children  drilling  \n",
       "0         0         0         0  \n",
       "1         0         0         0  \n",
       "2         0         0         0  \n",
       "3         0         0         0  \n",
       "4         1         0         0  "
      ]
     },
     "execution_count": 13,
     "metadata": {},
     "output_type": "execute_result"
    }
   ],
   "source": [
    "mfcc_pd.head()"
   ]
  },
  {
   "cell_type": "code",
   "execution_count": 14,
   "metadata": {
    "collapsed": false
   },
   "outputs": [],
   "source": [
    "ll = [mfcc_pd['features'][i].ravel() for i in range(mfcc_pd.shape[0])]\n",
    "mfcc_pd['sample'] = pd.Series(ll, index=mfcc_pd.index)\n",
    "del mfcc_pd['features']"
   ]
  },
  {
   "cell_type": "code",
   "execution_count": 15,
   "metadata": {
    "collapsed": false
   },
   "outputs": [
    {
     "data": {
      "text/html": [
       "<div>\n",
       "<table border=\"1\" class=\"dataframe\">\n",
       "  <thead>\n",
       "    <tr style=\"text-align: right;\">\n",
       "      <th></th>\n",
       "      <th>shape</th>\n",
       "      <th>label</th>\n",
       "      <th>fold</th>\n",
       "      <th>dog_bark</th>\n",
       "      <th>air_cond</th>\n",
       "      <th>jackhamm</th>\n",
       "      <th>siren</th>\n",
       "      <th>engine_i</th>\n",
       "      <th>street_m</th>\n",
       "      <th>car_horn</th>\n",
       "      <th>gun_shot</th>\n",
       "      <th>children</th>\n",
       "      <th>drilling</th>\n",
       "      <th>sample</th>\n",
       "    </tr>\n",
       "  </thead>\n",
       "  <tbody>\n",
       "    <tr>\n",
       "      <th>0</th>\n",
       "      <td>(1, 193)</td>\n",
       "      <td>dog_bark</td>\n",
       "      <td>1</td>\n",
       "      <td>1</td>\n",
       "      <td>0</td>\n",
       "      <td>0</td>\n",
       "      <td>0</td>\n",
       "      <td>0</td>\n",
       "      <td>0</td>\n",
       "      <td>0</td>\n",
       "      <td>0</td>\n",
       "      <td>0</td>\n",
       "      <td>0</td>\n",
       "      <td>[-402.458131222, 92.2208198393, 19.3559458953,...</td>\n",
       "    </tr>\n",
       "    <tr>\n",
       "      <th>1</th>\n",
       "      <td>(1, 193)</td>\n",
       "      <td>dog_bark</td>\n",
       "      <td>1</td>\n",
       "      <td>1</td>\n",
       "      <td>0</td>\n",
       "      <td>0</td>\n",
       "      <td>0</td>\n",
       "      <td>0</td>\n",
       "      <td>0</td>\n",
       "      <td>0</td>\n",
       "      <td>0</td>\n",
       "      <td>0</td>\n",
       "      <td>0</td>\n",
       "      <td>[-366.481581922, 126.422493153, 31.1635153803,...</td>\n",
       "    </tr>\n",
       "    <tr>\n",
       "      <th>2</th>\n",
       "      <td>(1, 193)</td>\n",
       "      <td>dog_bark</td>\n",
       "      <td>1</td>\n",
       "      <td>1</td>\n",
       "      <td>0</td>\n",
       "      <td>0</td>\n",
       "      <td>0</td>\n",
       "      <td>0</td>\n",
       "      <td>0</td>\n",
       "      <td>0</td>\n",
       "      <td>0</td>\n",
       "      <td>0</td>\n",
       "      <td>0</td>\n",
       "      <td>[-421.545181629, 69.0278123077, 11.2546785074,...</td>\n",
       "    </tr>\n",
       "    <tr>\n",
       "      <th>3</th>\n",
       "      <td>(1, 193)</td>\n",
       "      <td>dog_bark</td>\n",
       "      <td>1</td>\n",
       "      <td>1</td>\n",
       "      <td>0</td>\n",
       "      <td>0</td>\n",
       "      <td>0</td>\n",
       "      <td>0</td>\n",
       "      <td>0</td>\n",
       "      <td>0</td>\n",
       "      <td>0</td>\n",
       "      <td>0</td>\n",
       "      <td>0</td>\n",
       "      <td>[-253.201139054, 99.422307006, -42.0187279331,...</td>\n",
       "    </tr>\n",
       "    <tr>\n",
       "      <th>4</th>\n",
       "      <td>(1, 193)</td>\n",
       "      <td>gun_shot</td>\n",
       "      <td>1</td>\n",
       "      <td>0</td>\n",
       "      <td>0</td>\n",
       "      <td>0</td>\n",
       "      <td>0</td>\n",
       "      <td>0</td>\n",
       "      <td>0</td>\n",
       "      <td>0</td>\n",
       "      <td>1</td>\n",
       "      <td>0</td>\n",
       "      <td>0</td>\n",
       "      <td>[-383.810140281, 128.451555696, 29.3132434931,...</td>\n",
       "    </tr>\n",
       "  </tbody>\n",
       "</table>\n",
       "</div>"
      ],
      "text/plain": [
       "      shape     label  fold  dog_bark  air_cond  jackhamm  siren  engine_i  \\\n",
       "0  (1, 193)  dog_bark     1         1         0         0      0         0   \n",
       "1  (1, 193)  dog_bark     1         1         0         0      0         0   \n",
       "2  (1, 193)  dog_bark     1         1         0         0      0         0   \n",
       "3  (1, 193)  dog_bark     1         1         0         0      0         0   \n",
       "4  (1, 193)  gun_shot     1         0         0         0      0         0   \n",
       "\n",
       "   street_m  car_horn  gun_shot  children  drilling  \\\n",
       "0         0         0         0         0         0   \n",
       "1         0         0         0         0         0   \n",
       "2         0         0         0         0         0   \n",
       "3         0         0         0         0         0   \n",
       "4         0         0         1         0         0   \n",
       "\n",
       "                                              sample  \n",
       "0  [-402.458131222, 92.2208198393, 19.3559458953,...  \n",
       "1  [-366.481581922, 126.422493153, 31.1635153803,...  \n",
       "2  [-421.545181629, 69.0278123077, 11.2546785074,...  \n",
       "3  [-253.201139054, 99.422307006, -42.0187279331,...  \n",
       "4  [-383.810140281, 128.451555696, 29.3132434931,...  "
      ]
     },
     "execution_count": 15,
     "metadata": {},
     "output_type": "execute_result"
    }
   ],
   "source": [
    "mfcc_pd.head()"
   ]
  },
  {
   "cell_type": "code",
   "execution_count": 16,
   "metadata": {
    "collapsed": false
   },
   "outputs": [
    {
     "data": {
      "text/plain": [
       "pandas.core.series.Series"
      ]
     },
     "execution_count": 16,
     "metadata": {},
     "output_type": "execute_result"
    }
   ],
   "source": [
    "type(mfcc_pd['sample'])"
   ]
  },
  {
   "cell_type": "code",
   "execution_count": 24,
   "metadata": {
    "collapsed": true
   },
   "outputs": [],
   "source": [
    "pickle.dump(mfcc_pd,open('193_features.p','wb'))"
   ]
  },
  {
   "cell_type": "code",
   "execution_count": 17,
   "metadata": {
    "collapsed": true
   },
   "outputs": [],
   "source": [
    "#http://www.practicalcryptography.com/miscellaneous/machine-learning/guide-mel-frequency-cepstral-coefficients-mfccs/\n",
    "#http://haythamfayek.com/2016/04/21/speech-processing-for-machine-learning.html"
   ]
  },
  {
   "cell_type": "code",
   "execution_count": 18,
   "metadata": {
    "collapsed": true
   },
   "outputs": [],
   "source": [
    "# Random Forest classifier. Use fold10 as test set. Use fold1-9 for 9-fold cross validation\n",
    "forest = OneVsRestClassifier(RandomForestClassifier(n_estimators = 500, max_depth=20, min_samples_leaf=30))"
   ]
  },
  {
   "cell_type": "code",
   "execution_count": 19,
   "metadata": {
    "collapsed": false
   },
   "outputs": [],
   "source": [
    "train_data = list(mfcc_pd.loc[mfcc_pd['fold'] != 1]['sample'])"
   ]
  },
  {
   "cell_type": "code",
   "execution_count": 20,
   "metadata": {
    "collapsed": false
   },
   "outputs": [
    {
     "data": {
      "text/plain": [
       "(7858, 193)"
      ]
     },
     "execution_count": 20,
     "metadata": {},
     "output_type": "execute_result"
    }
   ],
   "source": [
    "train_data = np.array(train_data)\n",
    "train_data.shape"
   ]
  },
  {
   "cell_type": "code",
   "execution_count": 22,
   "metadata": {
    "collapsed": false
   },
   "outputs": [
    {
     "data": {
      "text/plain": [
       "['dog_bark',\n",
       " 'air_conditioner',\n",
       " 'jackhammer',\n",
       " 'siren',\n",
       " 'engine_idling',\n",
       " 'street_music',\n",
       " 'car_horn',\n",
       " 'gun_shot',\n",
       " 'children_playing',\n",
       " 'drilling']"
      ]
     },
     "execution_count": 22,
     "metadata": {},
     "output_type": "execute_result"
    }
   ],
   "source": [
    "class_list = [value for value in label_mapping.values()]\n",
    "class_list"
   ]
  },
  {
   "cell_type": "code",
   "execution_count": 25,
   "metadata": {
    "collapsed": false
   },
   "outputs": [
    {
     "ename": "NameError",
     "evalue": "name 'accuracy' is not defined",
     "output_type": "error",
     "traceback": [
      "\u001b[0;31m---------------------------------------------------------------------------\u001b[0m",
      "\u001b[0;31mNameError\u001b[0m                                 Traceback (most recent call last)",
      "\u001b[0;32m<ipython-input-25-7c7d7e896d91>\u001b[0m in \u001b[0;36m<module>\u001b[0;34m()\u001b[0m\n\u001b[1;32m     11\u001b[0m     \u001b[0mtrain_accuracy\u001b[0m \u001b[0;34m=\u001b[0m \u001b[0mforestmodel\u001b[0m\u001b[0;34m.\u001b[0m\u001b[0mscore\u001b[0m\u001b[0;34m(\u001b[0m\u001b[0mtrain_data\u001b[0m\u001b[0;34m,\u001b[0m\u001b[0mtrain_label\u001b[0m\u001b[0;34m)\u001b[0m\u001b[0;34m\u001b[0m\u001b[0m\n\u001b[1;32m     12\u001b[0m     \u001b[0mvalidation_accuracy\u001b[0m \u001b[0;34m=\u001b[0m \u001b[0mforestmodel\u001b[0m\u001b[0;34m.\u001b[0m\u001b[0mscore\u001b[0m\u001b[0;34m(\u001b[0m\u001b[0mvalidation_data\u001b[0m\u001b[0;34m,\u001b[0m\u001b[0mvalidation_label\u001b[0m\u001b[0;34m)\u001b[0m\u001b[0;34m\u001b[0m\u001b[0m\n\u001b[0;32m---> 13\u001b[0;31m     \u001b[0maccuracy\u001b[0m\u001b[0;34m.\u001b[0m\u001b[0mappend\u001b[0m\u001b[0;34m(\u001b[0m\u001b[0mvalidation_accuracy\u001b[0m\u001b[0;34m)\u001b[0m\u001b[0;34m\u001b[0m\u001b[0m\n\u001b[0m\u001b[1;32m     14\u001b[0m     \u001b[0mprint\u001b[0m\u001b[0;34m(\u001b[0m\u001b[0mi\u001b[0m\u001b[0;34m)\u001b[0m\u001b[0;34m\u001b[0m\u001b[0m\n\u001b[1;32m     15\u001b[0m     \u001b[0mprint\u001b[0m\u001b[0;34m(\u001b[0m\u001b[0;34m\"train accuracy: \"\u001b[0m\u001b[0;34m,\u001b[0m \u001b[0mtrain_accuracy\u001b[0m\u001b[0;34m)\u001b[0m\u001b[0;34m\u001b[0m\u001b[0m\n",
      "\u001b[0;31mNameError\u001b[0m: name 'accuracy' is not defined"
     ]
    }
   ],
   "source": [
    "# save fold 10 as test_data and perform a 9-fold cross validation\n",
    "from sklearn.metrics import roc_auc_score\n",
    "for i in range(1,10):\n",
    "    train_data = np.array(list(mfcc_pd.loc[mfcc_pd['fold'] != i]['sample']))\n",
    "    train_label = np.array(mfcc_pd.loc[mfcc_pd['fold'] != i]['dog_bark'])\n",
    "    validation_data = np.array(list(mfcc_pd.loc[mfcc_pd['fold'] == i]['sample']))\n",
    "    validation_label = np.array(mfcc_pd.loc[mfcc_pd['fold'] == i]['dog_bark'])\n",
    "    roc = []\n",
    "    \n",
    "    forestmodel = forest.fit(train_data, train_label)\n",
    "    train_accuracy = forestmodel.score(train_data,train_label)\n",
    "    validation_accuracy = forestmodel.score(validation_data,validation_label)\n",
    "    accuracy.append(validation_accuracy) \n",
    "    print(i)\n",
    "    print(\"train accuracy: \", train_accuracy)\n",
    "    print(\"validation accuracy: \", validation_accuracy)\n",
    "    \n",
    "print(accuracy)\n",
    "    "
   ]
  },
  {
   "cell_type": "code",
   "execution_count": null,
   "metadata": {
    "collapsed": false
   },
   "outputs": [],
   "source": [
    "print(set(mfcc_pd['fold']))\n",
    "ss = np.array(validation_label)"
   ]
  },
  {
   "cell_type": "code",
   "execution_count": null,
   "metadata": {
    "collapsed": false
   },
   "outputs": [],
   "source": [
    "type(ss[0])"
   ]
  }
 ],
 "metadata": {
  "anaconda-cloud": {},
  "kernelspec": {
   "display_name": "Python [conda root]",
   "language": "python",
   "name": "conda-root-py"
  },
  "language_info": {
   "codemirror_mode": {
    "name": "ipython",
    "version": 3
   },
   "file_extension": ".py",
   "mimetype": "text/x-python",
   "name": "python",
   "nbconvert_exporter": "python",
   "pygments_lexer": "ipython3",
   "version": "3.5.2"
  }
 },
 "nbformat": 4,
 "nbformat_minor": 1
}
