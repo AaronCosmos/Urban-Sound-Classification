{
 "cells": [
  {
   "cell_type": "code",
   "execution_count": 1,
   "metadata": {
    "collapsed": false
   },
   "outputs": [],
   "source": [
    "import pickle\n",
    "import tensorflow as tf\n",
    "import numpy as np\n",
    "import pandas as pd\n",
    "from sklearn.metrics import roc_curve, auc\n",
    "from timeit import default_timer as timer\n",
    "# needed to see images\n",
    "from IPython.display import display, Image\n",
    "import pickle\n",
    "from sklearn.preprocessing import LabelBinarizer\n",
    "\n",
    "# needed for plotting\n",
    "import matplotlib.pyplot as plt\n",
    "%matplotlib inline\n",
    "import seaborn as sns\n",
    "current_palette = sns.color_palette()"
   ]
  },
  {
   "cell_type": "code",
   "execution_count": 2,
   "metadata": {
    "collapsed": false
   },
   "outputs": [
    {
     "data": {
      "text/plain": [
       "'0.12.0-rc1'"
      ]
     },
     "execution_count": 2,
     "metadata": {},
     "output_type": "execute_result"
    }
   ],
   "source": [
    "# Requires TensorFlow V.12\n",
    "tf.__version__"
   ]
  },
  {
   "cell_type": "code",
   "execution_count": 3,
   "metadata": {
    "collapsed": false
   },
   "outputs": [],
   "source": [
    "data = pickle.load(open('193_features.p', 'rb'))"
   ]
  },
  {
   "cell_type": "code",
   "execution_count": 4,
   "metadata": {
    "collapsed": false
   },
   "outputs": [
    {
     "name": "stdout",
     "output_type": "stream",
     "text": [
      "working dataframe's shape: (8730, 194)\n"
     ]
    }
   ],
   "source": [
    "s = list(data['sample'])\n",
    "s = pd.DataFrame(s)\n",
    "data_cols = s.columns\n",
    "s['label'] = data['label']\n",
    "print('working dataframe\\'s shape:', s.shape)"
   ]
  },
  {
   "cell_type": "code",
   "execution_count": 5,
   "metadata": {
    "collapsed": false
   },
   "outputs": [
    {
     "name": "stdout",
     "output_type": "stream",
     "text": [
      "train shape (6984, 194)\n",
      "test  shape (1746, 194)\n",
      "common factors: 1, 2, 3, 6, 9, 18, 97, 194, 291, 582, 873, 1746\n"
     ]
    }
   ],
   "source": [
    "test_preds = {}\n",
    "train = s[0:6984]\n",
    "test = s[6984:]\n",
    "LB = LabelBinarizer().fit(train['label'])\n",
    "test_labels = LB.transform(test['label'])\n",
    "train_labels = LB.transform(train['label'])\n",
    "\n",
    "# truncate data\n",
    "#data_cols = data_cols[:1000]\n",
    "\n",
    "# print shapes\n",
    "print('train shape {}\\ntest  shape {}\\ncommon factors: 1, 2, 3, 6, 9, 18, 97, 194, 291, 582, 873, 1746'.format(train.shape, test.shape))"
   ]
  },
  {
   "cell_type": "code",
   "execution_count": 15,
   "metadata": {
    "collapsed": false
   },
   "outputs": [],
   "source": [
    "all_train_labels = LB.transform(train['label'])"
   ]
  },
  {
   "cell_type": "code",
   "execution_count": 17,
   "metadata": {
    "collapsed": false
   },
   "outputs": [],
   "source": [
    "def accuracy(predictions, labels):\n",
    "    return (100.0 * np.sum(np.argmax(predictions, 1) == np.argmax(labels, 1))\n",
    "            / predictions.shape[0])\n",
    "\n",
    "def weight_variable(shape):\n",
    "    initial = tf.truncated_normal(shape, stddev=0.01)\n",
    "    return tf.Variable(initial)\n",
    "\n",
    "def bias_variable(shape):\n",
    "    initial = tf.constant(0.1, shape=shape)\n",
    "    return tf.Variable(initial)\n",
    "\n",
    "def test_accuracy(session, test_data=test, test_labels=test_labels, during = True):\n",
    "    test_data.reset_index(inplace=True, drop=True)\n",
    "    epoch_pred = session.run(prediction, feed_dict={tf_data : test_data.loc[0:check_size-1,data_cols], keep_prob : 1.0})\n",
    "    for i in range(check_size, test_data.shape[0], check_size):\n",
    "        epoch_pred = np.concatenate([epoch_pred, session.run(prediction, \n",
    "                                    feed_dict={tf_data : test_data.loc[i:i+check_size-1,data_cols], keep_prob : 1.0})], axis=0)\n",
    "    if during:\n",
    "        return accuracy(epoch_pred, test_labels)\n",
    "    else:\n",
    "        return epoch_pred"
   ]
  },
  {
   "cell_type": "markdown",
   "metadata": {
    "collapsed": false
   },
   "source": [
    "## Run Session"
   ]
  },
  {
   "cell_type": "code",
   "execution_count": 21,
   "metadata": {
    "collapsed": false
   },
   "outputs": [],
   "source": [
    "num_labels = 10\n",
    "batch_size = 97\n",
    "acc_over_time = {}\n",
    "def Run_Session(num_epochs, name, k_prob=1.0, mute=False, record=False):\n",
    "    global train\n",
    "    \n",
    "    start = timer()\n",
    "    with tf.Session(graph=graph) as session:\n",
    "        if record:\n",
    "            merged = tf.merge_all_summaries()  \n",
    "            writer = tf.train.SummaryWriter(\"/tmp/tensorflowlogs\", session.graph)\n",
    "        #tf.initialize_all_variables().run()\n",
    "        tf.global_variables_initializer().run()\n",
    "\n",
    "        print(\"Initialized\")\n",
    "        accu_tr = []\n",
    "        accu_ts = []\n",
    "        \n",
    "        for epoch in range(num_epochs):\n",
    "            \n",
    "            # get batch\n",
    "            train_batch = train.sample(batch_size)\n",
    "            \n",
    "            t_d = train_batch[data_cols]\n",
    "            t_l = LB.transform(train_batch['label'])\n",
    "            \n",
    "            # make feed dict\n",
    "            feed_dict = { tf_data : t_d, train_labels : t_l, keep_prob : k_prob}\n",
    "            \n",
    "            # run model on batch\n",
    "            _, l, predictions = session.run([optimizer, loss, prediction], feed_dict=feed_dict)\n",
    "            \n",
    "            # mid model accuracy checks \n",
    "            if (epoch % 1000 == 0) and not mute:\n",
    "                print(\"\\tMinibatch loss at epoch {}: {}\".format(epoch, l))\n",
    "                print(\"\\tMinibatch accuracy: {:.1f}\".format(accuracy(predictions, t_l)))\n",
    "            if (epoch % 5000 == 0) and not mute:\n",
    "                print(\"Test accuracy: {:.1f}\".format(test_accuracy(session, during=True)))\n",
    "            if (epoch % 1000 == 0):\n",
    "                accu_ts.append(tuple([epoch, test_accuracy(session,  during=True)]))\n",
    "                accu_tr.append(tuple([epoch, test_accuracy(session, test_data=train, test_labels=all_train_labels,  during=True)]))\n",
    "                \n",
    "                \n",
    "        # record accuracy and predictions\n",
    "        test_preds[name] = test_accuracy(session, during=False)\n",
    "        print(\"Final Test accuracy: {:.1f}\".format(accuracy(test_preds[name], test_labels)))\n",
    "        end = timer()\n",
    "        test_preds[name] = test_preds[name].ravel()\n",
    "        acc_over_time[name] = (accu_tr, accu_ts)\n",
    "        print(\"time taken: {0} minutes {1:.1f} seconds\".format((end - start)//60, (end - start)%60))\n",
    "        #tf.train.export_meta_graph()"
   ]
  },
  {
   "cell_type": "markdown",
   "metadata": {},
   "source": [
    "## DeepNN"
   ]
  },
  {
   "cell_type": "code",
   "execution_count": 22,
   "metadata": {
    "collapsed": false
   },
   "outputs": [
    {
     "name": "stdout",
     "output_type": "stream",
     "text": [
      "Basic DeepNN model made\n"
     ]
    }
   ],
   "source": [
    "# constants\n",
    "num_labels = 10\n",
    "\n",
    "batch_size = 97\n",
    "check_size = 582\n",
    "feature_size = 193\n",
    "\n",
    "n_hidden1 = 400\n",
    "n_hidden2 = 500\n",
    "n_hidden3 = 400\n",
    "\n",
    "beta = 0.01\n",
    "\n",
    "graph = tf.Graph()\n",
    "with graph.as_default():\n",
    "    # placeholders\n",
    "    tf_data = tf.placeholder(tf.float32, shape=[None, feature_size])\n",
    "    train_labels = tf.placeholder(tf.float32, shape=[None, num_labels])\n",
    "    #test_data = tf.placeholder(tf.float32, shape=[batch_size, feature_size, 1])\n",
    "    keep_prob = tf.placeholder(tf.float32)\n",
    "    \n",
    "    # weights and biases\n",
    "    layer1_weights = weight_variable([feature_size, n_hidden1])\n",
    "    layer1_biases = bias_variable([n_hidden1])\n",
    "    layer2_weights = weight_variable([n_hidden1, n_hidden2])\n",
    "    layer2_biases = bias_variable([n_hidden2])\n",
    "    layer3_weights = weight_variable([n_hidden2, n_hidden3])\n",
    "    layer3_biases = bias_variable([n_hidden3])\n",
    "    layer4_weights = weight_variable([n_hidden3, num_labels])\n",
    "    layer4_biases = bias_variable([num_labels])\n",
    "\n",
    "    # model\n",
    "    def model(data, proba=1.0):\n",
    "        layer1 = tf.nn.relu(tf.matmul(data, layer1_weights) + layer1_biases)\n",
    "        layer1 = tf.nn.dropout(layer1, proba)\n",
    "        \n",
    "        layer2 = tf.nn.relu(tf.matmul(layer1, layer2_weights) + layer2_biases)\n",
    "        layer2 = tf.nn.dropout(layer2, proba)\n",
    "        \n",
    "        layer3 = tf.nn.relu(tf.matmul(layer2, layer3_weights) + layer3_biases)\n",
    "        layer3 = tf.nn.dropout(layer3, proba)\n",
    "        \n",
    "        return tf.matmul(layer3, layer4_weights) + layer4_biases\n",
    "\n",
    "    # Training computation.\n",
    "    logits = model(tf_data, keep_prob)\n",
    "    loss = tf.reduce_mean(tf.nn.softmax_cross_entropy_with_logits(logits, train_labels) +\n",
    "                         beta*tf.nn.l2_loss(layer1_weights) +\n",
    "                         beta*tf.nn.l2_loss(layer1_biases) +\n",
    "                         beta*tf.nn.l2_loss(layer2_weights) +\n",
    "                         beta*tf.nn.l2_loss(layer2_biases) +\n",
    "                         beta*tf.nn.l2_loss(layer3_weights) +\n",
    "                         beta*tf.nn.l2_loss(layer3_biases) +\n",
    "                         beta*tf.nn.l2_loss(layer4_weights) +\n",
    "                         beta*tf.nn.l2_loss(layer4_biases))\n",
    "\n",
    "    # Optimizer.\n",
    "    optimizer = tf.train.AdamOptimizer(1e-4).minimize(loss)\n",
    "\n",
    "    # Predictions for the training, validation, and test data.\n",
    "    # !!!! as this RNN model does not allow calling model more than once we will need to get test predictions\n",
    "    #      by running the test data through the same prediction op as the train data. !!!\n",
    "    # !!! make note to not run optimizer on same function call !!!\n",
    "    prediction = tf.nn.softmax(logits)\n",
    "    ### test_prediction = tf.nn.softmax(model(test_data))  \n",
    "    print('Basic DeepNN model made')"
   ]
  },
  {
   "cell_type": "code",
   "execution_count": 23,
   "metadata": {
    "collapsed": false
   },
   "outputs": [
    {
     "name": "stdout",
     "output_type": "stream",
     "text": [
      "Initialized\n",
      "\tMinibatch loss at epoch 0: 2.5593013763427734\n",
      "\tMinibatch accuracy: 10.3\n",
      "Test accuracy: 15.4\n",
      "\tMinibatch loss at epoch 1000: 1.0006884336471558\n",
      "\tMinibatch accuracy: 71.1\n",
      "\tMinibatch loss at epoch 2000: 0.7601749897003174\n",
      "\tMinibatch accuracy: 83.5\n",
      "\tMinibatch loss at epoch 3000: 0.572405993938446\n",
      "\tMinibatch accuracy: 86.6\n",
      "\tMinibatch loss at epoch 4000: 0.5595899820327759\n",
      "\tMinibatch accuracy: 92.8\n",
      "\tMinibatch loss at epoch 5000: 0.4374285042285919\n",
      "\tMinibatch accuracy: 93.8\n",
      "Test accuracy: 44.4\n",
      "\tMinibatch loss at epoch 6000: 0.35475191473960876\n",
      "\tMinibatch accuracy: 96.9\n",
      "\tMinibatch loss at epoch 7000: 0.3784990906715393\n",
      "\tMinibatch accuracy: 96.9\n",
      "\tMinibatch loss at epoch 8000: 0.35881850123405457\n",
      "\tMinibatch accuracy: 96.9\n",
      "\tMinibatch loss at epoch 9000: 0.393671452999115\n",
      "\tMinibatch accuracy: 94.8\n",
      "\tMinibatch loss at epoch 10000: 0.416215181350708\n",
      "\tMinibatch accuracy: 95.9\n",
      "Test accuracy: 45.6\n",
      "\tMinibatch loss at epoch 11000: 0.34918534755706787\n",
      "\tMinibatch accuracy: 96.9\n",
      "\tMinibatch loss at epoch 12000: 0.3501080274581909\n",
      "\tMinibatch accuracy: 97.9\n",
      "\tMinibatch loss at epoch 13000: 0.3222399055957794\n",
      "\tMinibatch accuracy: 99.0\n",
      "\tMinibatch loss at epoch 14000: 0.3332357406616211\n",
      "\tMinibatch accuracy: 96.9\n",
      "Final Test accuracy: 46.2\n",
      "time taken: 3.0 minutes 49.8 seconds\n"
     ]
    }
   ],
   "source": [
    "train = s[0:1000]\n",
    "Run_Session(15000, 'NN1', .2)"
   ]
  },
  {
   "cell_type": "code",
   "execution_count": 25,
   "metadata": {
    "collapsed": false
   },
   "outputs": [
    {
     "name": "stdout",
     "output_type": "stream",
     "text": [
      "Initialized\n",
      "\tMinibatch loss at epoch 0: 2.541362762451172\n",
      "\tMinibatch accuracy: 12.4\n",
      "Test accuracy: 9.7\n",
      "\tMinibatch loss at epoch 1000: 1.2692935466766357\n",
      "\tMinibatch accuracy: 61.9\n",
      "\tMinibatch loss at epoch 2000: 1.1614092588424683\n",
      "\tMinibatch accuracy: 62.9\n",
      "\tMinibatch loss at epoch 3000: 0.8936765193939209\n",
      "\tMinibatch accuracy: 75.3\n",
      "\tMinibatch loss at epoch 4000: 0.6921194791793823\n",
      "\tMinibatch accuracy: 84.5\n",
      "\tMinibatch loss at epoch 5000: 0.6170809268951416\n",
      "\tMinibatch accuracy: 88.7\n",
      "Test accuracy: 48.4\n",
      "\tMinibatch loss at epoch 6000: 0.6725472807884216\n",
      "\tMinibatch accuracy: 85.6\n",
      "\tMinibatch loss at epoch 7000: 0.6079206466674805\n",
      "\tMinibatch accuracy: 89.7\n",
      "\tMinibatch loss at epoch 8000: 0.5695197582244873\n",
      "\tMinibatch accuracy: 93.8\n",
      "\tMinibatch loss at epoch 9000: 0.5066466331481934\n",
      "\tMinibatch accuracy: 91.8\n",
      "\tMinibatch loss at epoch 10000: 0.6297001242637634\n",
      "\tMinibatch accuracy: 89.7\n",
      "Test accuracy: 50.1\n",
      "\tMinibatch loss at epoch 11000: 0.502411961555481\n",
      "\tMinibatch accuracy: 96.9\n",
      "\tMinibatch loss at epoch 12000: 0.5555205345153809\n",
      "\tMinibatch accuracy: 92.8\n",
      "\tMinibatch loss at epoch 13000: 0.5106901526451111\n",
      "\tMinibatch accuracy: 93.8\n",
      "\tMinibatch loss at epoch 14000: 0.5932229161262512\n",
      "\tMinibatch accuracy: 89.7\n",
      "Final Test accuracy: 50.2\n",
      "time taken: 3.0 minutes 38.0 seconds\n"
     ]
    }
   ],
   "source": [
    "train = s[0:2000]\n",
    "all_train_labels = LB.transform(train['label'])\n",
    "Run_Session(15000, 'NN2', .2)"
   ]
  },
  {
   "cell_type": "code",
   "execution_count": 26,
   "metadata": {
    "collapsed": false
   },
   "outputs": [
    {
     "name": "stdout",
     "output_type": "stream",
     "text": [
      "Initialized\n",
      "\tMinibatch loss at epoch 0: 2.555690050125122\n",
      "\tMinibatch accuracy: 13.4\n",
      "Test accuracy: 11.7\n",
      "\tMinibatch loss at epoch 1000: 1.5344635248184204\n",
      "\tMinibatch accuracy: 49.5\n",
      "\tMinibatch loss at epoch 2000: 1.1869713068008423\n",
      "\tMinibatch accuracy: 66.0\n",
      "\tMinibatch loss at epoch 3000: 0.9844298958778381\n",
      "\tMinibatch accuracy: 70.1\n",
      "\tMinibatch loss at epoch 4000: 0.8521890044212341\n",
      "\tMinibatch accuracy: 80.4\n",
      "\tMinibatch loss at epoch 5000: 0.8478661179542542\n",
      "\tMinibatch accuracy: 79.4\n",
      "Test accuracy: 48.3\n",
      "\tMinibatch loss at epoch 6000: 0.8055051565170288\n",
      "\tMinibatch accuracy: 81.4\n",
      "\tMinibatch loss at epoch 7000: 0.7777283787727356\n",
      "\tMinibatch accuracy: 84.5\n",
      "\tMinibatch loss at epoch 8000: 0.8716806769371033\n",
      "\tMinibatch accuracy: 81.4\n",
      "\tMinibatch loss at epoch 9000: 0.6980472803115845\n",
      "\tMinibatch accuracy: 86.6\n",
      "\tMinibatch loss at epoch 10000: 0.659508228302002\n",
      "\tMinibatch accuracy: 87.6\n",
      "Test accuracy: 50.7\n",
      "\tMinibatch loss at epoch 11000: 0.5777111649513245\n",
      "\tMinibatch accuracy: 89.7\n",
      "\tMinibatch loss at epoch 12000: 0.6122644543647766\n",
      "\tMinibatch accuracy: 87.6\n",
      "\tMinibatch loss at epoch 13000: 0.6019299030303955\n",
      "\tMinibatch accuracy: 89.7\n",
      "\tMinibatch loss at epoch 14000: 0.6319413185119629\n",
      "\tMinibatch accuracy: 90.7\n",
      "Final Test accuracy: 50.9\n",
      "time taken: 3.0 minutes 45.2 seconds\n"
     ]
    }
   ],
   "source": [
    "train = s[0:3000]\n",
    "all_train_labels = LB.transform(train['label'])\n",
    "Run_Session(15000, 'NN3', .2)"
   ]
  },
  {
   "cell_type": "code",
   "execution_count": 27,
   "metadata": {
    "collapsed": false
   },
   "outputs": [
    {
     "name": "stdout",
     "output_type": "stream",
     "text": [
      "Initialized\n",
      "\tMinibatch loss at epoch 0: 2.5357611179351807\n",
      "\tMinibatch accuracy: 15.5\n",
      "Test accuracy: 11.4\n",
      "\tMinibatch loss at epoch 1000: 1.4957135915756226\n",
      "\tMinibatch accuracy: 50.5\n",
      "\tMinibatch loss at epoch 2000: 1.2967299222946167\n",
      "\tMinibatch accuracy: 60.8\n",
      "\tMinibatch loss at epoch 3000: 1.2487434148788452\n",
      "\tMinibatch accuracy: 62.9\n",
      "\tMinibatch loss at epoch 4000: 0.9995276927947998\n",
      "\tMinibatch accuracy: 73.2\n",
      "\tMinibatch loss at epoch 5000: 0.819800853729248\n",
      "\tMinibatch accuracy: 79.4\n",
      "Test accuracy: 54.0\n",
      "\tMinibatch loss at epoch 6000: 0.7023181915283203\n",
      "\tMinibatch accuracy: 82.5\n",
      "\tMinibatch loss at epoch 7000: 0.9081413745880127\n",
      "\tMinibatch accuracy: 81.4\n",
      "\tMinibatch loss at epoch 8000: 0.8732615113258362\n",
      "\tMinibatch accuracy: 82.5\n",
      "\tMinibatch loss at epoch 9000: 0.7105173468589783\n",
      "\tMinibatch accuracy: 88.7\n",
      "\tMinibatch loss at epoch 10000: 0.7534568905830383\n",
      "\tMinibatch accuracy: 81.4\n",
      "Test accuracy: 55.6\n",
      "\tMinibatch loss at epoch 11000: 0.619098961353302\n",
      "\tMinibatch accuracy: 94.8\n",
      "\tMinibatch loss at epoch 12000: 0.7963396906852722\n",
      "\tMinibatch accuracy: 82.5\n",
      "\tMinibatch loss at epoch 13000: 0.6453417539596558\n",
      "\tMinibatch accuracy: 87.6\n",
      "\tMinibatch loss at epoch 14000: 0.9214218854904175\n",
      "\tMinibatch accuracy: 77.3\n",
      "Final Test accuracy: 56.6\n",
      "time taken: 4.0 minutes 33.8 seconds\n"
     ]
    }
   ],
   "source": [
    "train = s[0:4000]\n",
    "all_train_labels = LB.transform(train['label'])\n",
    "Run_Session(15000, 'NN4', .2)"
   ]
  },
  {
   "cell_type": "code",
   "execution_count": 28,
   "metadata": {
    "collapsed": false
   },
   "outputs": [
    {
     "name": "stdout",
     "output_type": "stream",
     "text": [
      "Initialized\n",
      "\tMinibatch loss at epoch 0: 2.5689339637756348\n",
      "\tMinibatch accuracy: 6.2\n",
      "Test accuracy: 12.7\n",
      "\tMinibatch loss at epoch 1000: 1.7042930126190186\n",
      "\tMinibatch accuracy: 44.3\n",
      "\tMinibatch loss at epoch 2000: 1.5084518194198608\n",
      "\tMinibatch accuracy: 51.5\n",
      "\tMinibatch loss at epoch 3000: 1.1486334800720215\n",
      "\tMinibatch accuracy: 66.0\n",
      "\tMinibatch loss at epoch 4000: 1.3284399509429932\n",
      "\tMinibatch accuracy: 67.0\n",
      "\tMinibatch loss at epoch 5000: 1.0170173645019531\n",
      "\tMinibatch accuracy: 76.3\n",
      "Test accuracy: 56.8\n",
      "\tMinibatch loss at epoch 6000: 0.9745178818702698\n",
      "\tMinibatch accuracy: 76.3\n",
      "\tMinibatch loss at epoch 7000: 0.8288687467575073\n",
      "\tMinibatch accuracy: 89.7\n",
      "\tMinibatch loss at epoch 8000: 0.8551123142242432\n",
      "\tMinibatch accuracy: 80.4\n",
      "\tMinibatch loss at epoch 9000: 0.923401415348053\n",
      "\tMinibatch accuracy: 83.5\n",
      "\tMinibatch loss at epoch 10000: 0.9091646671295166\n",
      "\tMinibatch accuracy: 80.4\n",
      "Test accuracy: 59.0\n",
      "\tMinibatch loss at epoch 11000: 0.8447104096412659\n",
      "\tMinibatch accuracy: 83.5\n",
      "\tMinibatch loss at epoch 12000: 0.8462017178535461\n",
      "\tMinibatch accuracy: 86.6\n",
      "\tMinibatch loss at epoch 13000: 0.7386643886566162\n",
      "\tMinibatch accuracy: 87.6\n",
      "\tMinibatch loss at epoch 14000: 0.9297734498977661\n",
      "\tMinibatch accuracy: 86.6\n",
      "Final Test accuracy: 59.8\n",
      "time taken: 6.0 minutes 39.8 seconds\n"
     ]
    }
   ],
   "source": [
    "train = s[0:5000]\n",
    "all_train_labels = LB.transform(train['label'])\n",
    "Run_Session(15000, 'NN5', .2)"
   ]
  },
  {
   "cell_type": "code",
   "execution_count": 29,
   "metadata": {
    "collapsed": false
   },
   "outputs": [
    {
     "name": "stdout",
     "output_type": "stream",
     "text": [
      "Initialized\n",
      "\tMinibatch loss at epoch 0: 2.5856266021728516\n",
      "\tMinibatch accuracy: 10.3\n",
      "Test accuracy: 15.6\n",
      "\tMinibatch loss at epoch 1000: 1.5560860633850098\n",
      "\tMinibatch accuracy: 40.2\n",
      "\tMinibatch loss at epoch 2000: 1.3447009325027466\n",
      "\tMinibatch accuracy: 59.8\n",
      "\tMinibatch loss at epoch 3000: 1.3998777866363525\n",
      "\tMinibatch accuracy: 58.8\n",
      "\tMinibatch loss at epoch 4000: 1.273011326789856\n",
      "\tMinibatch accuracy: 63.9\n",
      "\tMinibatch loss at epoch 5000: 1.171311378479004\n",
      "\tMinibatch accuracy: 68.0\n",
      "Test accuracy: 55.7\n",
      "\tMinibatch loss at epoch 6000: 0.8964895606040955\n",
      "\tMinibatch accuracy: 81.4\n",
      "\tMinibatch loss at epoch 7000: 1.1722732782363892\n",
      "\tMinibatch accuracy: 70.1\n",
      "\tMinibatch loss at epoch 8000: 0.9748114347457886\n",
      "\tMinibatch accuracy: 74.2\n",
      "\tMinibatch loss at epoch 9000: 0.8501774072647095\n",
      "\tMinibatch accuracy: 81.4\n",
      "\tMinibatch loss at epoch 10000: 1.0822762250900269\n",
      "\tMinibatch accuracy: 72.2\n",
      "Test accuracy: 58.0\n",
      "\tMinibatch loss at epoch 11000: 0.8205232620239258\n",
      "\tMinibatch accuracy: 78.4\n",
      "\tMinibatch loss at epoch 12000: 1.0293394327163696\n",
      "\tMinibatch accuracy: 74.2\n",
      "\tMinibatch loss at epoch 13000: 0.8913111686706543\n",
      "\tMinibatch accuracy: 84.5\n",
      "\tMinibatch loss at epoch 14000: 1.1191402673721313\n",
      "\tMinibatch accuracy: 75.3\n",
      "Final Test accuracy: 58.8\n",
      "time taken: 6.0 minutes 25.6 seconds\n"
     ]
    }
   ],
   "source": [
    "train = s[0:6000]\n",
    "all_train_labels = LB.transform(train['label'])\n",
    "Run_Session(15000, 'NN6', .2)"
   ]
  },
  {
   "cell_type": "code",
   "execution_count": 30,
   "metadata": {
    "collapsed": false
   },
   "outputs": [
    {
     "name": "stdout",
     "output_type": "stream",
     "text": [
      "Initialized\n",
      "\tMinibatch loss at epoch 0: 2.5555975437164307\n",
      "\tMinibatch accuracy: 12.4\n",
      "Test accuracy: 11.1\n",
      "\tMinibatch loss at epoch 1000: 1.5845431089401245\n",
      "\tMinibatch accuracy: 49.5\n",
      "\tMinibatch loss at epoch 2000: 1.2751085758209229\n",
      "\tMinibatch accuracy: 58.8\n",
      "\tMinibatch loss at epoch 3000: 1.2701315879821777\n",
      "\tMinibatch accuracy: 63.9\n",
      "\tMinibatch loss at epoch 4000: 1.1201924085617065\n",
      "\tMinibatch accuracy: 67.0\n",
      "\tMinibatch loss at epoch 5000: 1.0576838254928589\n",
      "\tMinibatch accuracy: 75.3\n",
      "Test accuracy: 57.2\n",
      "\tMinibatch loss at epoch 6000: 1.198064923286438\n",
      "\tMinibatch accuracy: 69.1\n",
      "\tMinibatch loss at epoch 7000: 1.0338197946548462\n",
      "\tMinibatch accuracy: 72.2\n",
      "\tMinibatch loss at epoch 8000: 0.980186939239502\n",
      "\tMinibatch accuracy: 81.4\n",
      "\tMinibatch loss at epoch 9000: 0.994850218296051\n",
      "\tMinibatch accuracy: 76.3\n",
      "\tMinibatch loss at epoch 10000: 1.0451939105987549\n",
      "\tMinibatch accuracy: 74.2\n",
      "Test accuracy: 60.5\n",
      "\tMinibatch loss at epoch 11000: 1.017863154411316\n",
      "\tMinibatch accuracy: 74.2\n",
      "\tMinibatch loss at epoch 12000: 0.9628950357437134\n",
      "\tMinibatch accuracy: 78.4\n",
      "\tMinibatch loss at epoch 13000: 0.9827948212623596\n",
      "\tMinibatch accuracy: 78.4\n",
      "\tMinibatch loss at epoch 14000: 1.050777554512024\n",
      "\tMinibatch accuracy: 76.3\n",
      "Final Test accuracy: 60.9\n",
      "time taken: 6.0 minutes 25.8 seconds\n"
     ]
    }
   ],
   "source": [
    "train = s[0:6984]\n",
    "all_train_labels = LB.transform(train['label'])\n",
    "Run_Session(15000, 'NN6984', .2)"
   ]
  },
  {
   "cell_type": "code",
   "execution_count": null,
   "metadata": {
    "collapsed": false
   },
   "outputs": [],
   "source": [
    "plt.plot(np.array(acc_over_time[''])[:,0], np.array(acc_over_time['RNN'])[:,1])\n",
    "plt.plot(np.array(acc_over_time['D'])[:,0], np.array(acc_over_time['DeepNN'])[:,1])\n",
    "plt.plot(np.array(acc_over_time['CNN'])[:,0], np.array(acc_over_time['CNN'])[:,1])\n",
    "plt.title('Accuracy')\n",
    "plt.show()"
   ]
  },
  {
   "cell_type": "code",
   "execution_count": 38,
   "metadata": {
    "collapsed": false
   },
   "outputs": [
    {
     "data": {
      "text/plain": [
       "array([ 99.8       ,  45.64719359])"
      ]
     },
     "execution_count": 38,
     "metadata": {},
     "output_type": "execute_result"
    }
   ],
   "source": [
    "np.array(acc_over_time['NN1'])[:,14,1]"
   ]
  },
  {
   "cell_type": "code",
   "execution_count": 44,
   "metadata": {
    "collapsed": false
   },
   "outputs": [],
   "source": [
    "t_curve = []\n",
    "names = ['NN1', 'NN2', 'NN3', 'NN4', 'NN5', 'NN6', 'NN6984']\n",
    "for name in names:\n",
    "    t_curve.append(list(np.array(acc_over_time[name])[:,14,1]))"
   ]
  },
  {
   "cell_type": "code",
   "execution_count": 67,
   "metadata": {
    "collapsed": false,
    "scrolled": false
   },
   "outputs": [
    {
     "data": {
      "image/png": "[encoded data removed]",
      "text/plain": [
       "<matplotlib.figure.Figure at 0x24d725d5358>"
      ]
     },
     "metadata": {},
     "output_type": "display_data"
    }
   ],
   "source": [
    "fig = plt.figure(figsize=[15,7])\n",
    "ticks = ['1k', '2k', '3k', '4k', '5k', '6k', '6984']\n",
    "plt.plot(np.array(t_curve)[:,0], label='Training Set', linewidth=3)\n",
    "plt.plot(np.array(t_curve)[:,1], label='Test Set', linewidth=3)\n",
    "plt.xlabel('Training Size (incrementing by thousand samples)', fontsize=18)\n",
    "plt.xticks(range(7), ticks, fontsize=14)\n",
    "plt.yticks(fontsize=14)\n",
    "plt.ylabel('Accuracy (%)', fontsize=18)\n",
    "plt.ylim([0, 110])\n",
    "plt.xlim([-0.1, 6.5])\n",
    "plt.legend(loc=\"lower right\", fontsize=18)\n",
    "plt.show()"
   ]
  },
  {
   "cell_type": "code",
   "execution_count": null,
   "metadata": {
    "collapsed": false
   },
   "outputs": [],
   "source": []
  },
  {
   "cell_type": "code",
   "execution_count": null,
   "metadata": {
    "collapsed": false
   },
   "outputs": [],
   "source": []
  },
  {
   "cell_type": "code",
   "execution_count": null,
   "metadata": {
    "collapsed": true
   },
   "outputs": [],
   "source": []
  }
 ],
 "metadata": {
  "anaconda-cloud": {},
  "kernelspec": {
   "display_name": "Python [Root]",
   "language": "python",
   "name": "Python [Root]"
  },
  "language_info": {
   "codemirror_mode": {
    "name": "ipython",
    "version": 3
   },
   "file_extension": ".py",
   "mimetype": "text/x-python",
   "name": "python",
   "nbconvert_exporter": "python",
   "pygments_lexer": "ipython3",
   "version": "3.5.2"
  }
 },
 "nbformat": 4,
 "nbformat_minor": 1
}
